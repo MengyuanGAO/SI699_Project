{
 "cells": [
  {
   "cell_type": "markdown",
   "metadata": {},
   "source": [
    "### Refer to the price of dishes with exactly the same names"
   ]
  },
  {
   "cell_type": "code",
   "execution_count": 13,
   "metadata": {
    "collapsed": true
   },
   "outputs": [],
   "source": [
    "def get_data(price_bound=100):\n",
    "    df = pd.read_csv('./data/dish_info.csv')\n",
    "    df.drop('index', inplace=True,axis=1)\n",
    "    \n",
    "    # get rid of outliers\n",
    "    df = df[pd.notnull(df['name'])]\n",
    "    df = df[df['price'] <= price_bound]\n",
    "    \n",
    "    # get rid of invalid names\n",
    "    df['name'] = df['name'].apply(process_names)\n",
    "    df = df[df['name'].str.len() != 0]\n",
    "    df = df[~df['name'].str.isnumeric()]\n",
    "    \n",
    "#     # tokenize the names of the dishes\n",
    "#     start = time.time()\n",
    "#     df['name'] = df['name'].apply(tokenize)\n",
    "#     print('used {:0.2f} seconds to tokenize the names'.format(time.time() - start))\n",
    "    \n",
    "    # split the dataframe into training and testing\n",
    "    train, test = train_test_split(df, test_size=0.2, random_state=0)\n",
    "    \n",
    "    return train, test"
   ]
  },
  {
   "cell_type": "code",
   "execution_count": 14,
   "metadata": {
    "collapsed": true
   },
   "outputs": [],
   "source": [
    "train, test = get_data()"
   ]
  },
  {
   "cell_type": "code",
   "execution_count": null,
   "metadata": {
    "collapsed": true
   },
   "outputs": [],
   "source": []
  },
  {
   "cell_type": "code",
   "execution_count": null,
   "metadata": {
    "collapsed": true
   },
   "outputs": [],
   "source": []
  },
  {
   "cell_type": "code",
   "execution_count": 15,
   "metadata": {
    "collapsed": true
   },
   "outputs": [],
   "source": [
    "train_price_df = train.groupby('kitchen_id').price.mean().reset_index()"
   ]
  },
  {
   "cell_type": "code",
   "execution_count": 18,
   "metadata": {
    "collapsed": true
   },
   "outputs": [],
   "source": [
    "predictions = pd.merge(train[['kitchen_id']], train_price_df, on='kitchen_id', how='left').fillna(train.price.mean())['price']"
   ]
  },
  {
   "cell_type": "code",
   "execution_count": 19,
   "metadata": {
    "collapsed": true
   },
   "outputs": [],
   "source": [
    "from sklearn.metrics import mean_squared_error\n",
    "mse = mean_squared_error(train['price'], predictions)\n",
    "rmse = np.sqrt(mse)"
   ]
  },
  {
   "cell_type": "code",
   "execution_count": 20,
   "metadata": {},
   "outputs": [
    {
     "name": "stdout",
     "output_type": "stream",
     "text": [
      "9.23826442980105\n"
     ]
    }
   ],
   "source": [
    "print(rmse)"
   ]
  },
  {
   "cell_type": "code",
   "execution_count": 24,
   "metadata": {},
   "outputs": [
    {
     "data": {
      "text/html": [
       "<div>\n",
       "<style scoped>\n",
       "    .dataframe tbody tr th:only-of-type {\n",
       "        vertical-align: middle;\n",
       "    }\n",
       "\n",
       "    .dataframe tbody tr th {\n",
       "        vertical-align: top;\n",
       "    }\n",
       "\n",
       "    .dataframe thead th {\n",
       "        text-align: right;\n",
       "    }\n",
       "</style>\n",
       "<table border=\"1\" class=\"dataframe\">\n",
       "  <thead>\n",
       "    <tr style=\"text-align: right;\">\n",
       "      <th></th>\n",
       "      <th>name</th>\n",
       "      <th>price</th>\n",
       "      <th>pred</th>\n",
       "    </tr>\n",
       "  </thead>\n",
       "  <tbody>\n",
       "    <tr>\n",
       "      <th>188538</th>\n",
       "      <td>爆炒肥肠</td>\n",
       "      <td>25</td>\n",
       "      <td>20.063380</td>\n",
       "    </tr>\n",
       "    <tr>\n",
       "      <th>126590</th>\n",
       "      <td>韩式辣炒年糕</td>\n",
       "      <td>20</td>\n",
       "      <td>19.583333</td>\n",
       "    </tr>\n",
       "    <tr>\n",
       "      <th>278352</th>\n",
       "      <td>米饭</td>\n",
       "      <td>1</td>\n",
       "      <td>20.400000</td>\n",
       "    </tr>\n",
       "    <tr>\n",
       "      <th>254028</th>\n",
       "      <td>番茄炒有机菜花</td>\n",
       "      <td>15</td>\n",
       "      <td>25.071895</td>\n",
       "    </tr>\n",
       "    <tr>\n",
       "      <th>273036</th>\n",
       "      <td>鲜虾豆腐煲</td>\n",
       "      <td>22</td>\n",
       "      <td>18.750000</td>\n",
       "    </tr>\n",
       "    <tr>\n",
       "      <th>239941</th>\n",
       "      <td>土豆烧牛肉</td>\n",
       "      <td>35</td>\n",
       "      <td>17.222222</td>\n",
       "    </tr>\n",
       "    <tr>\n",
       "      <th>234548</th>\n",
       "      <td>蒜蓉炒西兰花</td>\n",
       "      <td>18</td>\n",
       "      <td>20.181818</td>\n",
       "    </tr>\n",
       "    <tr>\n",
       "      <th>36343</th>\n",
       "      <td>双拼红烧鸡翅配香菇菜心</td>\n",
       "      <td>20</td>\n",
       "      <td>21.125000</td>\n",
       "    </tr>\n",
       "    <tr>\n",
       "      <th>147634</th>\n",
       "      <td>可乐鸡翅</td>\n",
       "      <td>25</td>\n",
       "      <td>19.964286</td>\n",
       "    </tr>\n",
       "    <tr>\n",
       "      <th>197916</th>\n",
       "      <td>芹菜香干炒肉</td>\n",
       "      <td>20</td>\n",
       "      <td>20.692982</td>\n",
       "    </tr>\n",
       "    <tr>\n",
       "      <th>161200</th>\n",
       "      <td>交白肉丝榨莱炒毛豆</td>\n",
       "      <td>28</td>\n",
       "      <td>17.722222</td>\n",
       "    </tr>\n",
       "    <tr>\n",
       "      <th>339334</th>\n",
       "      <td>韩国海太苏打饼干</td>\n",
       "      <td>2</td>\n",
       "      <td>NaN</td>\n",
       "    </tr>\n",
       "    <tr>\n",
       "      <th>347865</th>\n",
       "      <td>口味茄子</td>\n",
       "      <td>20</td>\n",
       "      <td>NaN</td>\n",
       "    </tr>\n",
       "    <tr>\n",
       "      <th>42269</th>\n",
       "      <td>红烧鱼块</td>\n",
       "      <td>23</td>\n",
       "      <td>24.553191</td>\n",
       "    </tr>\n",
       "    <tr>\n",
       "      <th>68529</th>\n",
       "      <td>剁椒蒸鸡翅</td>\n",
       "      <td>19</td>\n",
       "      <td>22.130435</td>\n",
       "    </tr>\n",
       "    <tr>\n",
       "      <th>346734</th>\n",
       "      <td>鲈鱼</td>\n",
       "      <td>18</td>\n",
       "      <td>NaN</td>\n",
       "    </tr>\n",
       "    <tr>\n",
       "      <th>376867</th>\n",
       "      <td>两人小饭桌</td>\n",
       "      <td>45</td>\n",
       "      <td>NaN</td>\n",
       "    </tr>\n",
       "    <tr>\n",
       "      <th>199112</th>\n",
       "      <td>韭菜炒鸡蛋</td>\n",
       "      <td>19</td>\n",
       "      <td>22.800000</td>\n",
       "    </tr>\n",
       "    <tr>\n",
       "      <th>312377</th>\n",
       "      <td>辣椒芹菜炒蛋</td>\n",
       "      <td>15</td>\n",
       "      <td>NaN</td>\n",
       "    </tr>\n",
       "    <tr>\n",
       "      <th>289576</th>\n",
       "      <td>西红柿抄菜花</td>\n",
       "      <td>18</td>\n",
       "      <td>21.125000</td>\n",
       "    </tr>\n",
       "    <tr>\n",
       "      <th>229370</th>\n",
       "      <td>回锅肉</td>\n",
       "      <td>22</td>\n",
       "      <td>28.896552</td>\n",
       "    </tr>\n",
       "    <tr>\n",
       "      <th>171572</th>\n",
       "      <td>猪肉茴香</td>\n",
       "      <td>22</td>\n",
       "      <td>18.762712</td>\n",
       "    </tr>\n",
       "    <tr>\n",
       "      <th>18780</th>\n",
       "      <td>煎豆腐</td>\n",
       "      <td>15</td>\n",
       "      <td>18.793103</td>\n",
       "    </tr>\n",
       "    <tr>\n",
       "      <th>284649</th>\n",
       "      <td>小葱拌豆腐</td>\n",
       "      <td>18</td>\n",
       "      <td>20.560000</td>\n",
       "    </tr>\n",
       "    <tr>\n",
       "      <th>163508</th>\n",
       "      <td>白木耳莲子红枣羹</td>\n",
       "      <td>12</td>\n",
       "      <td>19.784314</td>\n",
       "    </tr>\n",
       "    <tr>\n",
       "      <th>287784</th>\n",
       "      <td>蒜苔炒鸡蛋</td>\n",
       "      <td>9</td>\n",
       "      <td>21.071429</td>\n",
       "    </tr>\n",
       "    <tr>\n",
       "      <th>103194</th>\n",
       "      <td>藕们好心情酸辣甜</td>\n",
       "      <td>22</td>\n",
       "      <td>23.250000</td>\n",
       "    </tr>\n",
       "    <tr>\n",
       "      <th>59033</th>\n",
       "      <td>芹菜肉丝</td>\n",
       "      <td>18</td>\n",
       "      <td>20.130435</td>\n",
       "    </tr>\n",
       "    <tr>\n",
       "      <th>41531</th>\n",
       "      <td>小菜炒鸡蛋面</td>\n",
       "      <td>13</td>\n",
       "      <td>20.957447</td>\n",
       "    </tr>\n",
       "    <tr>\n",
       "      <th>3096</th>\n",
       "      <td>木耳炒青菜</td>\n",
       "      <td>12</td>\n",
       "      <td>18.975806</td>\n",
       "    </tr>\n",
       "    <tr>\n",
       "      <th>...</th>\n",
       "      <td>...</td>\n",
       "      <td>...</td>\n",
       "      <td>...</td>\n",
       "    </tr>\n",
       "    <tr>\n",
       "      <th>232115</th>\n",
       "      <td>蚝油娃娃菜</td>\n",
       "      <td>15</td>\n",
       "      <td>20.857143</td>\n",
       "    </tr>\n",
       "    <tr>\n",
       "      <th>32128</th>\n",
       "      <td>西红柿炒鸡蛋</td>\n",
       "      <td>13</td>\n",
       "      <td>19.025000</td>\n",
       "    </tr>\n",
       "    <tr>\n",
       "      <th>373304</th>\n",
       "      <td>双拼红烧肉十西兰花</td>\n",
       "      <td>19</td>\n",
       "      <td>NaN</td>\n",
       "    </tr>\n",
       "    <tr>\n",
       "      <th>73684</th>\n",
       "      <td>菊花粥</td>\n",
       "      <td>8</td>\n",
       "      <td>20.538462</td>\n",
       "    </tr>\n",
       "    <tr>\n",
       "      <th>348604</th>\n",
       "      <td>茭白肉片新菜</td>\n",
       "      <td>22</td>\n",
       "      <td>NaN</td>\n",
       "    </tr>\n",
       "    <tr>\n",
       "      <th>7918</th>\n",
       "      <td>可乐鸡翅</td>\n",
       "      <td>24</td>\n",
       "      <td>18.740260</td>\n",
       "    </tr>\n",
       "    <tr>\n",
       "      <th>335162</th>\n",
       "      <td>油闷大虾</td>\n",
       "      <td>30</td>\n",
       "      <td>NaN</td>\n",
       "    </tr>\n",
       "    <tr>\n",
       "      <th>332244</th>\n",
       "      <td>甜椒盐煎肉</td>\n",
       "      <td>32</td>\n",
       "      <td>NaN</td>\n",
       "    </tr>\n",
       "    <tr>\n",
       "      <th>83097</th>\n",
       "      <td>尖叫炒丝瓜</td>\n",
       "      <td>18</td>\n",
       "      <td>21.652174</td>\n",
       "    </tr>\n",
       "    <tr>\n",
       "      <th>257698</th>\n",
       "      <td>本帮红烧合包蛋</td>\n",
       "      <td>10</td>\n",
       "      <td>22.405063</td>\n",
       "    </tr>\n",
       "    <tr>\n",
       "      <th>365970</th>\n",
       "      <td>白辣椒炒腊肉罗卜干</td>\n",
       "      <td>28</td>\n",
       "      <td>NaN</td>\n",
       "    </tr>\n",
       "    <tr>\n",
       "      <th>222706</th>\n",
       "      <td>煎蛋</td>\n",
       "      <td>2</td>\n",
       "      <td>20.296296</td>\n",
       "    </tr>\n",
       "    <tr>\n",
       "      <th>373431</th>\n",
       "      <td>营养丝瓜蛋</td>\n",
       "      <td>18</td>\n",
       "      <td>NaN</td>\n",
       "    </tr>\n",
       "    <tr>\n",
       "      <th>151422</th>\n",
       "      <td>日本豆腐</td>\n",
       "      <td>28</td>\n",
       "      <td>21.277778</td>\n",
       "    </tr>\n",
       "    <tr>\n",
       "      <th>17196</th>\n",
       "      <td>雪里蕻炖豆腐</td>\n",
       "      <td>12</td>\n",
       "      <td>20.250000</td>\n",
       "    </tr>\n",
       "    <tr>\n",
       "      <th>80807</th>\n",
       "      <td>乾坤四色</td>\n",
       "      <td>18</td>\n",
       "      <td>22.000000</td>\n",
       "    </tr>\n",
       "    <tr>\n",
       "      <th>317074</th>\n",
       "      <td>蒜泥空心菜</td>\n",
       "      <td>12</td>\n",
       "      <td>NaN</td>\n",
       "    </tr>\n",
       "    <tr>\n",
       "      <th>172186</th>\n",
       "      <td>柠檬慕斯杯</td>\n",
       "      <td>32</td>\n",
       "      <td>24.423077</td>\n",
       "    </tr>\n",
       "    <tr>\n",
       "      <th>313034</th>\n",
       "      <td>西葫芦炒鸡蛋</td>\n",
       "      <td>18</td>\n",
       "      <td>NaN</td>\n",
       "    </tr>\n",
       "    <tr>\n",
       "      <th>213958</th>\n",
       "      <td>红烧翅根</td>\n",
       "      <td>28</td>\n",
       "      <td>20.800000</td>\n",
       "    </tr>\n",
       "    <tr>\n",
       "      <th>213463</th>\n",
       "      <td>挪威三文鱼刺身</td>\n",
       "      <td>38</td>\n",
       "      <td>21.862069</td>\n",
       "    </tr>\n",
       "    <tr>\n",
       "      <th>377237</th>\n",
       "      <td>香菇油豆腐炒青菜</td>\n",
       "      <td>16</td>\n",
       "      <td>NaN</td>\n",
       "    </tr>\n",
       "    <tr>\n",
       "      <th>86955</th>\n",
       "      <td>水煮鱼</td>\n",
       "      <td>39</td>\n",
       "      <td>27.875000</td>\n",
       "    </tr>\n",
       "    <tr>\n",
       "      <th>123601</th>\n",
       "      <td>双拼卤鸡翅跟配时时蔬</td>\n",
       "      <td>26</td>\n",
       "      <td>16.565217</td>\n",
       "    </tr>\n",
       "    <tr>\n",
       "      <th>306396</th>\n",
       "      <td>小攴桌</td>\n",
       "      <td>32</td>\n",
       "      <td>NaN</td>\n",
       "    </tr>\n",
       "    <tr>\n",
       "      <th>362380</th>\n",
       "      <td>黄灿灿薯仔丝炒肉</td>\n",
       "      <td>18</td>\n",
       "      <td>NaN</td>\n",
       "    </tr>\n",
       "    <tr>\n",
       "      <th>360675</th>\n",
       "      <td>自制四川泡菜小份</td>\n",
       "      <td>8</td>\n",
       "      <td>NaN</td>\n",
       "    </tr>\n",
       "    <tr>\n",
       "      <th>153707</th>\n",
       "      <td>米饭</td>\n",
       "      <td>2</td>\n",
       "      <td>25.090909</td>\n",
       "    </tr>\n",
       "    <tr>\n",
       "      <th>118925</th>\n",
       "      <td>平安菜烧卤豆腐</td>\n",
       "      <td>20</td>\n",
       "      <td>20.666667</td>\n",
       "    </tr>\n",
       "    <tr>\n",
       "      <th>307977</th>\n",
       "      <td>酸辣白菜粉丝</td>\n",
       "      <td>15</td>\n",
       "      <td>NaN</td>\n",
       "    </tr>\n",
       "  </tbody>\n",
       "</table>\n",
       "<p>304189 rows × 3 columns</p>\n",
       "</div>"
      ],
      "text/plain": [
       "               name  price       pred\n",
       "188538         爆炒肥肠     25  20.063380\n",
       "126590       韩式辣炒年糕     20  19.583333\n",
       "278352           米饭      1  20.400000\n",
       "254028      番茄炒有机菜花     15  25.071895\n",
       "273036        鲜虾豆腐煲     22  18.750000\n",
       "239941        土豆烧牛肉     35  17.222222\n",
       "234548       蒜蓉炒西兰花     18  20.181818\n",
       "36343   双拼红烧鸡翅配香菇菜心     20  21.125000\n",
       "147634         可乐鸡翅     25  19.964286\n",
       "197916       芹菜香干炒肉     20  20.692982\n",
       "161200    交白肉丝榨莱炒毛豆     28  17.722222\n",
       "339334     韩国海太苏打饼干      2        NaN\n",
       "347865         口味茄子     20        NaN\n",
       "42269          红烧鱼块     23  24.553191\n",
       "68529         剁椒蒸鸡翅     19  22.130435\n",
       "346734           鲈鱼     18        NaN\n",
       "376867        两人小饭桌     45        NaN\n",
       "199112        韭菜炒鸡蛋     19  22.800000\n",
       "312377       辣椒芹菜炒蛋     15        NaN\n",
       "289576       西红柿抄菜花     18  21.125000\n",
       "229370          回锅肉     22  28.896552\n",
       "171572         猪肉茴香     22  18.762712\n",
       "18780           煎豆腐     15  18.793103\n",
       "284649        小葱拌豆腐     18  20.560000\n",
       "163508     白木耳莲子红枣羹     12  19.784314\n",
       "287784        蒜苔炒鸡蛋      9  21.071429\n",
       "103194     藕们好心情酸辣甜     22  23.250000\n",
       "59033          芹菜肉丝     18  20.130435\n",
       "41531        小菜炒鸡蛋面     13  20.957447\n",
       "3096          木耳炒青菜     12  18.975806\n",
       "...             ...    ...        ...\n",
       "232115        蚝油娃娃菜     15  20.857143\n",
       "32128        西红柿炒鸡蛋     13  19.025000\n",
       "373304    双拼红烧肉十西兰花     19        NaN\n",
       "73684           菊花粥      8  20.538462\n",
       "348604       茭白肉片新菜     22        NaN\n",
       "7918           可乐鸡翅     24  18.740260\n",
       "335162         油闷大虾     30        NaN\n",
       "332244        甜椒盐煎肉     32        NaN\n",
       "83097         尖叫炒丝瓜     18  21.652174\n",
       "257698      本帮红烧合包蛋     10  22.405063\n",
       "365970    白辣椒炒腊肉罗卜干     28        NaN\n",
       "222706           煎蛋      2  20.296296\n",
       "373431        营养丝瓜蛋     18        NaN\n",
       "151422         日本豆腐     28  21.277778\n",
       "17196        雪里蕻炖豆腐     12  20.250000\n",
       "80807          乾坤四色     18  22.000000\n",
       "317074        蒜泥空心菜     12        NaN\n",
       "172186        柠檬慕斯杯     32  24.423077\n",
       "313034       西葫芦炒鸡蛋     18        NaN\n",
       "213958         红烧翅根     28  20.800000\n",
       "213463      挪威三文鱼刺身     38  21.862069\n",
       "377237     香菇油豆腐炒青菜     16        NaN\n",
       "86955           水煮鱼     39  27.875000\n",
       "123601   双拼卤鸡翅跟配时时蔬     26  16.565217\n",
       "306396          小攴桌     32        NaN\n",
       "362380     黄灿灿薯仔丝炒肉     18        NaN\n",
       "360675     自制四川泡菜小份      8        NaN\n",
       "153707           米饭      2  25.090909\n",
       "118925      平安菜烧卤豆腐     20  20.666667\n",
       "307977       酸辣白菜粉丝     15        NaN\n",
       "\n",
       "[304189 rows x 3 columns]"
      ]
     },
     "execution_count": 24,
     "metadata": {},
     "output_type": "execute_result"
    }
   ],
   "source": [
    "train['pred'] = predictions\n",
    "train[['name', 'price', 'pred']]"
   ]
  },
  {
   "cell_type": "code",
   "execution_count": null,
   "metadata": {
    "collapsed": true
   },
   "outputs": [],
   "source": []
  },
  {
   "cell_type": "code",
   "execution_count": null,
   "metadata": {
    "collapsed": true
   },
   "outputs": [],
   "source": []
  },
  {
   "cell_type": "code",
   "execution_count": 53,
   "metadata": {
    "collapsed": true
   },
   "outputs": [],
   "source": [
    "train_price_df = train.groupby('name').price.mean().reset_index()"
   ]
  },
  {
   "cell_type": "code",
   "execution_count": 54,
   "metadata": {
    "collapsed": true
   },
   "outputs": [],
   "source": [
    "predictions = pd.merge(train[['name']], train_price_df, on='name', how='left').fillna(train.price.mean())['price']"
   ]
  },
  {
   "cell_type": "code",
   "execution_count": 55,
   "metadata": {
    "collapsed": true
   },
   "outputs": [],
   "source": [
    "from sklearn.metrics import mean_squared_error\n",
    "mse = mean_squared_error(train['price'], predictions)\n",
    "rmse = np.sqrt(mse)"
   ]
  },
  {
   "cell_type": "code",
   "execution_count": 56,
   "metadata": {},
   "outputs": [
    {
     "name": "stdout",
     "output_type": "stream",
     "text": [
      "4.169272572961129\n"
     ]
    }
   ],
   "source": [
    "print(rmse)"
   ]
  },
  {
   "cell_type": "code",
   "execution_count": null,
   "metadata": {
    "collapsed": true
   },
   "outputs": [],
   "source": []
  },
  {
   "cell_type": "markdown",
   "metadata": {},
   "source": [
    "### Refer to the mean price of every tokens"
   ]
  },
  {
   "cell_type": "code",
   "execution_count": 3,
   "metadata": {
    "collapsed": true
   },
   "outputs": [],
   "source": [
    "import time\n",
    "from sklearn.model_selection import train_test_split\n",
    "from sklearn.metrics import mean_squared_error"
   ]
  },
  {
   "cell_type": "code",
   "execution_count": 4,
   "metadata": {
    "collapsed": true
   },
   "outputs": [],
   "source": [
    "import pandas as pd\n",
    "import numpy as np"
   ]
  },
  {
   "cell_type": "code",
   "execution_count": 5,
   "metadata": {
    "collapsed": true
   },
   "outputs": [],
   "source": [
    "import jieba\n",
    "import jieba.posseg as pseg"
   ]
  },
  {
   "cell_type": "code",
   "execution_count": 8,
   "metadata": {
    "collapsed": true
   },
   "outputs": [],
   "source": [
    "def tokenize(name_string, only_noun=True):\n",
    "    w_pair = pseg.cut(str(name_string))\n",
    "    tokens = [(word, tag) for word, tag in w_pair]\n",
    "    if only_noun:\n",
    "            tokens = [wt[0] for wt in tokens if wt[1].startswith('n')]\n",
    "    return tokens"
   ]
  },
  {
   "cell_type": "code",
   "execution_count": 9,
   "metadata": {
    "collapsed": true
   },
   "outputs": [],
   "source": [
    "def process_names(name):\n",
    "    return ''.join([i for i in name if i.isalpha()])"
   ]
  },
  {
   "cell_type": "code",
   "execution_count": 10,
   "metadata": {
    "collapsed": true
   },
   "outputs": [],
   "source": [
    "def build_vocab(names, min_freq=10):\n",
    "    vocab = {}\n",
    "    for tokens in names:\n",
    "        for t in tokens:\n",
    "            if t in vocab:\n",
    "                vocab[t] += 1\n",
    "            else:\n",
    "                vocab[t] = 1\n",
    "\n",
    "    keys = list(vocab.keys())\n",
    "\n",
    "    for k in keys:\n",
    "        if len(k) < 2:\n",
    "            del vocab[k]\n",
    "\n",
    "        if k in vocab:\n",
    "            if vocab[k] < min_freq:\n",
    "                del [vocab[k]]\n",
    "                \n",
    "    return vocab"
   ]
  },
  {
   "cell_type": "code",
   "execution_count": 11,
   "metadata": {
    "collapsed": true
   },
   "outputs": [],
   "source": [
    "def build_price_dict(df, vocab):\n",
    "    price_dict = {}\n",
    "    for index, row in df.iterrows():\n",
    "        for t in row['name']:\n",
    "            if t in vocab:\n",
    "                price_dict[t] = price_dict.get(t, 0) + row['price']\n",
    "                \n",
    "    return price_dict"
   ]
  },
  {
   "cell_type": "code",
   "execution_count": 12,
   "metadata": {
    "collapsed": true
   },
   "outputs": [],
   "source": [
    "def get_data(price_bound=100):\n",
    "    df = pd.read_csv('./data/dish_info.csv')\n",
    "    df.drop('index', inplace=True,axis=1)\n",
    "    \n",
    "    # get rid of outliers\n",
    "    df = df[pd.notnull(df['name'])]\n",
    "    df = df[df['price'] <= price_bound]\n",
    "    \n",
    "    # get rid of invalid names\n",
    "    df['name'] = df['name'].apply(process_names)\n",
    "    df = df[df['name'].str.len() != 0]\n",
    "    df = df[~df['name'].str.isnumeric()]\n",
    "    \n",
    "    # tokenize the names of the dishes\n",
    "    start = time.time()\n",
    "    df['name'] = df['name'].apply(tokenize)\n",
    "    print('used {:0.2f} seconds to tokenize the names'.format(time.time() - start))\n",
    "    \n",
    "    # split the dataframe into training and testing\n",
    "    train, test = train_test_split(df, test_size=0.2, random_state=0)\n",
    "    \n",
    "    # build vocab using the dish names in train\n",
    "    names = list(train['name'])\n",
    "    vocab = build_vocab(names, min_freq=5)\n",
    "    \n",
    "    # get the summation of price for all tokens\n",
    "    start = time.time()\n",
    "    price = build_price_dict(train, vocab)\n",
    "    print('used {:0.2f} seconds to get tokens prices'.format(time.time() - start))\n",
    "    \n",
    "    # build reference dataframe\n",
    "    df_outcome = pd.DataFrame({'name':list(vocab.keys()), 'count': list(vocab.values()), 'price_sum':list(price.values())})\n",
    "    df_outcome['mean_price'] = df_outcome['price_sum'] / df_outcome['count']\n",
    "    \n",
    "    return train, test, df_outcome"
   ]
  },
  {
   "cell_type": "code",
   "execution_count": 71,
   "metadata": {
    "scrolled": true
   },
   "outputs": [
    {
     "name": "stdout",
     "output_type": "stream",
     "text": [
      "used 112.84 seconds to tokenize the names\n",
      "used 29.48 seconds to get tokens prices\n"
     ]
    },
    {
     "data": {
      "text/html": [
       "<div>\n",
       "<style scoped>\n",
       "    .dataframe tbody tr th:only-of-type {\n",
       "        vertical-align: middle;\n",
       "    }\n",
       "\n",
       "    .dataframe tbody tr th {\n",
       "        vertical-align: top;\n",
       "    }\n",
       "\n",
       "    .dataframe thead th {\n",
       "        text-align: right;\n",
       "    }\n",
       "</style>\n",
       "<table border=\"1\" class=\"dataframe\">\n",
       "  <thead>\n",
       "    <tr style=\"text-align: right;\">\n",
       "      <th></th>\n",
       "      <th>name</th>\n",
       "      <th>count</th>\n",
       "      <th>price_sum</th>\n",
       "      <th>mean_price</th>\n",
       "    </tr>\n",
       "  </thead>\n",
       "  <tbody>\n",
       "    <tr>\n",
       "      <th>0</th>\n",
       "      <td>肥肠</td>\n",
       "      <td>620</td>\n",
       "      <td>18402</td>\n",
       "      <td>29.680645</td>\n",
       "    </tr>\n",
       "    <tr>\n",
       "      <th>1</th>\n",
       "      <td>韩式辣</td>\n",
       "      <td>39</td>\n",
       "      <td>924</td>\n",
       "      <td>23.692308</td>\n",
       "    </tr>\n",
       "    <tr>\n",
       "      <th>2</th>\n",
       "      <td>炒年糕</td>\n",
       "      <td>369</td>\n",
       "      <td>8040</td>\n",
       "      <td>21.788618</td>\n",
       "    </tr>\n",
       "    <tr>\n",
       "      <th>3</th>\n",
       "      <td>米饭</td>\n",
       "      <td>4620</td>\n",
       "      <td>19218</td>\n",
       "      <td>4.159740</td>\n",
       "    </tr>\n",
       "    <tr>\n",
       "      <th>4</th>\n",
       "      <td>番茄</td>\n",
       "      <td>3938</td>\n",
       "      <td>74148</td>\n",
       "      <td>18.828847</td>\n",
       "    </tr>\n",
       "  </tbody>\n",
       "</table>\n",
       "</div>"
      ],
      "text/plain": [
       "  name  count  price_sum  mean_price\n",
       "0   肥肠    620      18402   29.680645\n",
       "1  韩式辣     39        924   23.692308\n",
       "2  炒年糕    369       8040   21.788618\n",
       "3   米饭   4620      19218    4.159740\n",
       "4   番茄   3938      74148   18.828847"
      ]
     },
     "execution_count": 71,
     "metadata": {},
     "output_type": "execute_result"
    }
   ],
   "source": [
    "train, test, df_outcome = get_data()\n",
    "df_outcome.head()"
   ]
  },
  {
   "cell_type": "code",
   "execution_count": null,
   "metadata": {
    "collapsed": true
   },
   "outputs": [],
   "source": []
  },
  {
   "cell_type": "code",
   "execution_count": 72,
   "metadata": {
    "collapsed": true
   },
   "outputs": [],
   "source": [
    "token_price_dict = dict(zip(df_outcome.name, df_outcome.mean_price))"
   ]
  },
  {
   "cell_type": "code",
   "execution_count": 73,
   "metadata": {
    "collapsed": true
   },
   "outputs": [],
   "source": [
    "def get_price(row):\n",
    "    price_list = [token_price_dict[t] for t in row if t in token_price_dict]\n",
    "    if len(price_list) == 0:\n",
    "        return 0\n",
    "    else:\n",
    "        return sum(price_list) / len(price_list)"
   ]
  },
  {
   "cell_type": "code",
   "execution_count": null,
   "metadata": {
    "collapsed": true
   },
   "outputs": [],
   "source": []
  },
  {
   "cell_type": "code",
   "execution_count": null,
   "metadata": {
    "collapsed": true
   },
   "outputs": [],
   "source": []
  },
  {
   "cell_type": "code",
   "execution_count": 74,
   "metadata": {
    "collapsed": true
   },
   "outputs": [],
   "source": [
    "price_predictions = test['name'].apply(get_price)"
   ]
  },
  {
   "cell_type": "code",
   "execution_count": 75,
   "metadata": {
    "collapsed": true
   },
   "outputs": [],
   "source": [
    "price_predictions[price_predictions == 0] = train.price.mean()"
   ]
  },
  {
   "cell_type": "code",
   "execution_count": 76,
   "metadata": {
    "collapsed": true
   },
   "outputs": [],
   "source": [
    "\n",
    "mse = mean_squared_error(test['price'], price_predictions)\n",
    "rmse = np.sqrt(mse)"
   ]
  },
  {
   "cell_type": "code",
   "execution_count": 77,
   "metadata": {},
   "outputs": [
    {
     "name": "stdout",
     "output_type": "stream",
     "text": [
      "8.133305770399332\n"
     ]
    }
   ],
   "source": [
    "print(rmse)"
   ]
  },
  {
   "cell_type": "code",
   "execution_count": null,
   "metadata": {
    "collapsed": true
   },
   "outputs": [],
   "source": []
  },
  {
   "cell_type": "code",
   "execution_count": 78,
   "metadata": {
    "collapsed": true
   },
   "outputs": [],
   "source": [
    "test['pred'] = price_predictions"
   ]
  },
  {
   "cell_type": "code",
   "execution_count": 83,
   "metadata": {
    "collapsed": true
   },
   "outputs": [],
   "source": [
    "res_df = test[(price_predictions - test['price']) ** 2 > 64][['name', 'price', 'pred']]"
   ]
  },
  {
   "cell_type": "code",
   "execution_count": null,
   "metadata": {
    "collapsed": true
   },
   "outputs": [],
   "source": []
  },
  {
   "cell_type": "code",
   "execution_count": null,
   "metadata": {
    "collapsed": true
   },
   "outputs": [],
   "source": []
  },
  {
   "cell_type": "code",
   "execution_count": 91,
   "metadata": {},
   "outputs": [
    {
     "data": {
      "text/html": [
       "<div>\n",
       "<style scoped>\n",
       "    .dataframe tbody tr th:only-of-type {\n",
       "        vertical-align: middle;\n",
       "    }\n",
       "\n",
       "    .dataframe tbody tr th {\n",
       "        vertical-align: top;\n",
       "    }\n",
       "\n",
       "    .dataframe thead th {\n",
       "        text-align: right;\n",
       "    }\n",
       "</style>\n",
       "<table border=\"1\" class=\"dataframe\">\n",
       "  <thead>\n",
       "    <tr style=\"text-align: right;\">\n",
       "      <th></th>\n",
       "      <th>name</th>\n",
       "      <th>price</th>\n",
       "      <th>pred</th>\n",
       "    </tr>\n",
       "  </thead>\n",
       "  <tbody>\n",
       "    <tr>\n",
       "      <th>182506</th>\n",
       "      <td>[炸鸡]</td>\n",
       "      <td>12</td>\n",
       "      <td>31.995215</td>\n",
       "    </tr>\n",
       "    <tr>\n",
       "      <th>162508</th>\n",
       "      <td>[炸鸡]</td>\n",
       "      <td>23</td>\n",
       "      <td>31.995215</td>\n",
       "    </tr>\n",
       "    <tr>\n",
       "      <th>88730</th>\n",
       "      <td>[炸鸡]</td>\n",
       "      <td>10</td>\n",
       "      <td>31.995215</td>\n",
       "    </tr>\n",
       "    <tr>\n",
       "      <th>80467</th>\n",
       "      <td>[炸鸡]</td>\n",
       "      <td>22</td>\n",
       "      <td>31.995215</td>\n",
       "    </tr>\n",
       "    <tr>\n",
       "      <th>118849</th>\n",
       "      <td>[炸鸡]</td>\n",
       "      <td>13</td>\n",
       "      <td>31.995215</td>\n",
       "    </tr>\n",
       "    <tr>\n",
       "      <th>331238</th>\n",
       "      <td>[炸鸡]</td>\n",
       "      <td>22</td>\n",
       "      <td>31.995215</td>\n",
       "    </tr>\n",
       "    <tr>\n",
       "      <th>293542</th>\n",
       "      <td>[炸鸡]</td>\n",
       "      <td>22</td>\n",
       "      <td>31.995215</td>\n",
       "    </tr>\n",
       "  </tbody>\n",
       "</table>\n",
       "</div>"
      ],
      "text/plain": [
       "        name  price       pred\n",
       "182506  [炸鸡]     12  31.995215\n",
       "162508  [炸鸡]     23  31.995215\n",
       "88730   [炸鸡]     10  31.995215\n",
       "80467   [炸鸡]     22  31.995215\n",
       "118849  [炸鸡]     13  31.995215\n",
       "331238  [炸鸡]     22  31.995215\n",
       "293542  [炸鸡]     22  31.995215"
      ]
     },
     "execution_count": 91,
     "metadata": {},
     "output_type": "execute_result"
    }
   ],
   "source": [
    "res_df[res_df.name.apply(lambda x: x == ['炸鸡'])]"
   ]
  },
  {
   "cell_type": "code",
   "execution_count": 93,
   "metadata": {},
   "outputs": [
    {
     "data": {
      "text/html": [
       "<div>\n",
       "<style scoped>\n",
       "    .dataframe tbody tr th:only-of-type {\n",
       "        vertical-align: middle;\n",
       "    }\n",
       "\n",
       "    .dataframe tbody tr th {\n",
       "        vertical-align: top;\n",
       "    }\n",
       "\n",
       "    .dataframe thead th {\n",
       "        text-align: right;\n",
       "    }\n",
       "</style>\n",
       "<table border=\"1\" class=\"dataframe\">\n",
       "  <thead>\n",
       "    <tr style=\"text-align: right;\">\n",
       "      <th></th>\n",
       "      <th>name</th>\n",
       "      <th>count</th>\n",
       "      <th>price_sum</th>\n",
       "      <th>mean_price</th>\n",
       "    </tr>\n",
       "  </thead>\n",
       "  <tbody>\n",
       "    <tr>\n",
       "      <th>0</th>\n",
       "      <td>肥肠</td>\n",
       "      <td>620</td>\n",
       "      <td>18402</td>\n",
       "      <td>29.680645</td>\n",
       "    </tr>\n",
       "    <tr>\n",
       "      <th>1</th>\n",
       "      <td>韩式辣</td>\n",
       "      <td>39</td>\n",
       "      <td>924</td>\n",
       "      <td>23.692308</td>\n",
       "    </tr>\n",
       "    <tr>\n",
       "      <th>2</th>\n",
       "      <td>炒年糕</td>\n",
       "      <td>369</td>\n",
       "      <td>8040</td>\n",
       "      <td>21.788618</td>\n",
       "    </tr>\n",
       "    <tr>\n",
       "      <th>3</th>\n",
       "      <td>米饭</td>\n",
       "      <td>4620</td>\n",
       "      <td>19218</td>\n",
       "      <td>4.159740</td>\n",
       "    </tr>\n",
       "    <tr>\n",
       "      <th>4</th>\n",
       "      <td>番茄</td>\n",
       "      <td>3938</td>\n",
       "      <td>74148</td>\n",
       "      <td>18.828847</td>\n",
       "    </tr>\n",
       "    <tr>\n",
       "      <th>5</th>\n",
       "      <td>有机</td>\n",
       "      <td>1665</td>\n",
       "      <td>32220</td>\n",
       "      <td>19.351351</td>\n",
       "    </tr>\n",
       "    <tr>\n",
       "      <th>6</th>\n",
       "      <td>菜花</td>\n",
       "      <td>2193</td>\n",
       "      <td>42627</td>\n",
       "      <td>19.437756</td>\n",
       "    </tr>\n",
       "    <tr>\n",
       "      <th>7</th>\n",
       "      <td>鲜虾</td>\n",
       "      <td>293</td>\n",
       "      <td>8980</td>\n",
       "      <td>30.648464</td>\n",
       "    </tr>\n",
       "    <tr>\n",
       "      <th>8</th>\n",
       "      <td>豆腐</td>\n",
       "      <td>9208</td>\n",
       "      <td>170738</td>\n",
       "      <td>18.542354</td>\n",
       "    </tr>\n",
       "    <tr>\n",
       "      <th>9</th>\n",
       "      <td>土豆</td>\n",
       "      <td>7541</td>\n",
       "      <td>182007</td>\n",
       "      <td>24.135658</td>\n",
       "    </tr>\n",
       "  </tbody>\n",
       "</table>\n",
       "</div>"
      ],
      "text/plain": [
       "  name  count  price_sum  mean_price\n",
       "0   肥肠    620      18402   29.680645\n",
       "1  韩式辣     39        924   23.692308\n",
       "2  炒年糕    369       8040   21.788618\n",
       "3   米饭   4620      19218    4.159740\n",
       "4   番茄   3938      74148   18.828847\n",
       "5   有机   1665      32220   19.351351\n",
       "6   菜花   2193      42627   19.437756\n",
       "7   鲜虾    293       8980   30.648464\n",
       "8   豆腐   9208     170738   18.542354\n",
       "9   土豆   7541     182007   24.135658"
      ]
     },
     "execution_count": 93,
     "metadata": {},
     "output_type": "execute_result"
    }
   ],
   "source": [
    "df_outcome.head(10)"
   ]
  },
  {
   "cell_type": "markdown",
   "metadata": {},
   "source": [
    "### Kitchen matching"
   ]
  },
  {
   "cell_type": "markdown",
   "metadata": {},
   "source": [
    "### kitchen mean"
   ]
  },
  {
   "cell_type": "code",
   "execution_count": 6,
   "metadata": {
    "collapsed": true
   },
   "outputs": [],
   "source": [
    "def get_data(price_bound=100):\n",
    "    df = pd.read_csv('./data/dish_info.csv')\n",
    "    df.drop('index', inplace=True,axis=1)\n",
    "    \n",
    "    # get rid of outliers\n",
    "    df = df[pd.notnull(df['name'])]\n",
    "    df = df[df['price'] <= price_bound]\n",
    "    \n",
    "    # get rid of invalid names\n",
    "    df['name'] = df['name'].apply(process_names)\n",
    "    df = df[df['name'].str.len() != 0]\n",
    "    df = df[~df['name'].str.isnumeric()]\n",
    "    \n",
    "#     # tokenize the names of the dishes\n",
    "#     start = time.time()\n",
    "#     df['name'] = df['name'].apply(tokenize)\n",
    "#     print('used {:0.2f} seconds to tokenize the names'.format(time.time() - start))\n",
    "    \n",
    "    # split the dataframe into training and testing\n",
    "    train, test = train_test_split(df, test_size=0.2, random_state=0)\n",
    "    \n",
    "    return train, test"
   ]
  },
  {
   "cell_type": "code",
   "execution_count": 7,
   "metadata": {
    "collapsed": true
   },
   "outputs": [],
   "source": [
    "train, test = get_data()"
   ]
  },
  {
   "cell_type": "code",
   "execution_count": 106,
   "metadata": {
    "collapsed": true
   },
   "outputs": [],
   "source": [
    "kitchen_mean = train.groupby('kitchen_id')['price'].mean().reset_index().rename(columns={'price':'kitchen_mean'})"
   ]
  },
  {
   "cell_type": "code",
   "execution_count": 116,
   "metadata": {
    "collapsed": true
   },
   "outputs": [],
   "source": [
    "temp = pd.merge(train, kitchen_mean, on='kitchen_id', how='left')"
   ]
  },
  {
   "cell_type": "code",
   "execution_count": 117,
   "metadata": {},
   "outputs": [
    {
     "data": {
      "text/html": [
       "<div>\n",
       "<style scoped>\n",
       "    .dataframe tbody tr th:only-of-type {\n",
       "        vertical-align: middle;\n",
       "    }\n",
       "\n",
       "    .dataframe tbody tr th {\n",
       "        vertical-align: top;\n",
       "    }\n",
       "\n",
       "    .dataframe thead th {\n",
       "        text-align: right;\n",
       "    }\n",
       "</style>\n",
       "<table border=\"1\" class=\"dataframe\">\n",
       "  <thead>\n",
       "    <tr style=\"text-align: right;\">\n",
       "      <th></th>\n",
       "      <th>price</th>\n",
       "      <th>kitchen_mean</th>\n",
       "    </tr>\n",
       "  </thead>\n",
       "  <tbody>\n",
       "    <tr>\n",
       "      <th>0</th>\n",
       "      <td>25</td>\n",
       "      <td>28.718750</td>\n",
       "    </tr>\n",
       "    <tr>\n",
       "      <th>1</th>\n",
       "      <td>20</td>\n",
       "      <td>20.200000</td>\n",
       "    </tr>\n",
       "    <tr>\n",
       "      <th>2</th>\n",
       "      <td>1</td>\n",
       "      <td>18.925926</td>\n",
       "    </tr>\n",
       "    <tr>\n",
       "      <th>3</th>\n",
       "      <td>15</td>\n",
       "      <td>20.272727</td>\n",
       "    </tr>\n",
       "    <tr>\n",
       "      <th>4</th>\n",
       "      <td>22</td>\n",
       "      <td>18.692308</td>\n",
       "    </tr>\n",
       "  </tbody>\n",
       "</table>\n",
       "</div>"
      ],
      "text/plain": [
       "   price  kitchen_mean\n",
       "0     25     28.718750\n",
       "1     20     20.200000\n",
       "2      1     18.925926\n",
       "3     15     20.272727\n",
       "4     22     18.692308"
      ]
     },
     "execution_count": 117,
     "metadata": {},
     "output_type": "execute_result"
    }
   ],
   "source": [
    "temp[['price', 'kitchen_mean']].head()"
   ]
  },
  {
   "cell_type": "code",
   "execution_count": 118,
   "metadata": {
    "collapsed": true
   },
   "outputs": [],
   "source": [
    "temp.kitchen_mean.fillna(train.price.mean(), inplace=True)"
   ]
  },
  {
   "cell_type": "code",
   "execution_count": 119,
   "metadata": {
    "collapsed": true
   },
   "outputs": [],
   "source": [
    "mse = mean_squared_error(train['price'], temp['kitchen_mean'])\n",
    "rmse = np.sqrt(mse)"
   ]
  },
  {
   "cell_type": "code",
   "execution_count": 120,
   "metadata": {},
   "outputs": [
    {
     "name": "stdout",
     "output_type": "stream",
     "text": [
      "9.23826442980105\n"
     ]
    }
   ],
   "source": [
    "print(rmse)"
   ]
  },
  {
   "cell_type": "code",
   "execution_count": null,
   "metadata": {
    "collapsed": true
   },
   "outputs": [],
   "source": []
  },
  {
   "cell_type": "markdown",
   "metadata": {},
   "source": [
    "### other kitchen info with kitchen mean"
   ]
  },
  {
   "cell_type": "code",
   "execution_count": 15,
   "metadata": {},
   "outputs": [
    {
     "data": {
      "text/plain": [
       "20.642566530194472"
      ]
     },
     "execution_count": 15,
     "metadata": {},
     "output_type": "execute_result"
    }
   ],
   "source": [
    "train[train.is_recommend == 0]['price'].mean()"
   ]
  },
  {
   "cell_type": "code",
   "execution_count": 16,
   "metadata": {},
   "outputs": [
    {
     "data": {
      "text/plain": [
       "23.924027026639315"
      ]
     },
     "execution_count": 16,
     "metadata": {},
     "output_type": "execute_result"
    }
   ],
   "source": [
    "train[train.is_recommend == 1]['price'].mean()"
   ]
  },
  {
   "cell_type": "code",
   "execution_count": null,
   "metadata": {
    "collapsed": true
   },
   "outputs": [],
   "source": []
  },
  {
   "cell_type": "code",
   "execution_count": 18,
   "metadata": {
    "collapsed": true
   },
   "outputs": [],
   "source": [
    "kitchen_df = pd.read_csv('./data/kitchen_info.csv')"
   ]
  },
  {
   "cell_type": "code",
   "execution_count": 21,
   "metadata": {},
   "outputs": [
    {
     "data": {
      "text/plain": [
       "110100    10718\n",
       "310100     2971\n",
       "440300     1600\n",
       "440100      683\n",
       "330100      587\n",
       "420100        2\n",
       "Name: city_id, dtype: int64"
      ]
     },
     "execution_count": 21,
     "metadata": {},
     "output_type": "execute_result"
    }
   ],
   "source": [
    "kitchen_df['city_id'].value_counts()"
   ]
  },
  {
   "cell_type": "code",
   "execution_count": 22,
   "metadata": {},
   "outputs": [
    {
     "data": {
      "text/plain": [
       "1    12621\n",
       "2     2731\n",
       "3     1128\n",
       "5       59\n",
       "4       22\n",
       "Name: staple_price, dtype: int64"
      ]
     },
     "execution_count": 22,
     "metadata": {},
     "output_type": "execute_result"
    }
   ],
   "source": [
    "kitchen_df['staple_price'].value_counts()"
   ]
  },
  {
   "cell_type": "code",
   "execution_count": 23,
   "metadata": {},
   "outputs": [
    {
     "data": {
      "text/plain": [
       "count    16561.000000\n",
       "mean        14.233440\n",
       "std         33.504996\n",
       "min          0.000000\n",
       "25%          0.000000\n",
       "50%          1.000000\n",
       "75%         14.000000\n",
       "max        784.000000\n",
       "Name: like_num, dtype: float64"
      ]
     },
     "execution_count": 23,
     "metadata": {},
     "output_type": "execute_result"
    }
   ],
   "source": [
    "kitchen_df['like_num'].describe()"
   ]
  },
  {
   "cell_type": "code",
   "execution_count": null,
   "metadata": {
    "collapsed": true
   },
   "outputs": [],
   "source": []
  },
  {
   "cell_type": "code",
   "execution_count": 37,
   "metadata": {
    "collapsed": true
   },
   "outputs": [],
   "source": [
    "kitchen = kitchen_df[['kitchen_id', 'city_id', 'staple_price', 'like_num']]"
   ]
  },
  {
   "cell_type": "code",
   "execution_count": null,
   "metadata": {
    "collapsed": true
   },
   "outputs": [],
   "source": []
  },
  {
   "cell_type": "code",
   "execution_count": 31,
   "metadata": {
    "collapsed": true
   },
   "outputs": [],
   "source": [
    "kitchen_mean = train.groupby('kitchen_id')['price'].mean().reset_index().rename(columns={'price':'kitchen_mean'})"
   ]
  },
  {
   "cell_type": "code",
   "execution_count": null,
   "metadata": {
    "collapsed": true
   },
   "outputs": [],
   "source": []
  },
  {
   "cell_type": "code",
   "execution_count": 32,
   "metadata": {
    "collapsed": true
   },
   "outputs": [],
   "source": [
    "train_k = pd.merge(train, kitchen_mean, on='kitchen_id', how='left')"
   ]
  },
  {
   "cell_type": "code",
   "execution_count": 33,
   "metadata": {
    "collapsed": true
   },
   "outputs": [],
   "source": [
    "test_k = pd.merge(test, kitchen_mean, on='kitchen_id', how='left')"
   ]
  },
  {
   "cell_type": "code",
   "execution_count": null,
   "metadata": {
    "collapsed": true
   },
   "outputs": [],
   "source": []
  },
  {
   "cell_type": "code",
   "execution_count": 44,
   "metadata": {
    "collapsed": true
   },
   "outputs": [],
   "source": [
    "temp_train = pd.merge(train_k, kitchen, on='kitchen_id', how='left')[['kitchen_id', 'kitchen_mean', 'city_id', 'staple_price_x', 'staple_price_y', 'like_num', ]]"
   ]
  },
  {
   "cell_type": "code",
   "execution_count": 45,
   "metadata": {
    "collapsed": true
   },
   "outputs": [],
   "source": [
    "temp_test = pd.merge(test_k, kitchen, on='kitchen_id', how='left')[['kitchen_id', 'kitchen_mean', 'city_id', 'staple_price_x', 'staple_price_y', 'like_num', ]]"
   ]
  },
  {
   "cell_type": "code",
   "execution_count": 48,
   "metadata": {
    "collapsed": true
   },
   "outputs": [],
   "source": [
    "temp_train.drop('staple_price_x', axis=1, inplace=True)"
   ]
  },
  {
   "cell_type": "code",
   "execution_count": 47,
   "metadata": {
    "collapsed": true
   },
   "outputs": [],
   "source": [
    "temp_test.drop('staple_price_x', axis=1, inplace=True)"
   ]
  },
  {
   "cell_type": "code",
   "execution_count": 76,
   "metadata": {
    "collapsed": true
   },
   "outputs": [],
   "source": [
    "temp_test.kitchen_mean.fillna(train.price.mean(), inplace=True)"
   ]
  },
  {
   "cell_type": "code",
   "execution_count": null,
   "metadata": {
    "collapsed": true
   },
   "outputs": [],
   "source": []
  },
  {
   "cell_type": "code",
   "execution_count": null,
   "metadata": {
    "collapsed": true
   },
   "outputs": [],
   "source": []
  },
  {
   "cell_type": "code",
   "execution_count": 100,
   "metadata": {},
   "outputs": [
    {
     "data": {
      "text/plain": [
       "array([[28.71875   ],\n",
       "       [20.2       ],\n",
       "       [18.92592593],\n",
       "       ...,\n",
       "       [20.11764706],\n",
       "       [28.89655172],\n",
       "       [20.55714286]])"
      ]
     },
     "execution_count": 100,
     "metadata": {},
     "output_type": "execute_result"
    }
   ],
   "source": [
    "np.array(temp_train['kitchen_mean']).reshape(-1, 1)"
   ]
  },
  {
   "cell_type": "code",
   "execution_count": 110,
   "metadata": {
    "collapsed": true
   },
   "outputs": [],
   "source": [
    "from sklearn.ensemble import RandomForestClassifier\n",
    "\n",
    "clf = RandomForestClassifier(n_estimators=100, max_depth=6,\n",
    "                             random_state=0)\n",
    "clf.fit(np.array(temp_train['kitchen_mean']).reshape(-1, 1), train_k['price'])\n",
    "\n",
    "predictions = clf.predict(np.array(temp_test['kitchen_mean']).reshape(-1, 1))"
   ]
  },
  {
   "cell_type": "code",
   "execution_count": null,
   "metadata": {
    "collapsed": true
   },
   "outputs": [],
   "source": []
  },
  {
   "cell_type": "code",
   "execution_count": 113,
   "metadata": {
    "collapsed": true
   },
   "outputs": [],
   "source": [
    "mse = mean_squared_error(clf.predict(np.array(temp_train['kitchen_mean']).reshape(-1, 1)), train['price'])\n",
    "rmse = np.sqrt(mse)"
   ]
  },
  {
   "cell_type": "code",
   "execution_count": 114,
   "metadata": {},
   "outputs": [
    {
     "name": "stdout",
     "output_type": "stream",
     "text": [
      "9.9201694387853\n"
     ]
    }
   ],
   "source": [
    "print(rmse)"
   ]
  },
  {
   "cell_type": "code",
   "execution_count": null,
   "metadata": {
    "collapsed": true
   },
   "outputs": [],
   "source": []
  },
  {
   "cell_type": "code",
   "execution_count": 124,
   "metadata": {
    "collapsed": true
   },
   "outputs": [],
   "source": [
    "from sklearn.linear_model import LinearRegression, Lasso, Ridge\n",
    "from sklearn.naive_bayes import MultinomialNB\n",
    "\n",
    "# reg = LinearRegression().fit(temp_train, train['price'])\n",
    "reg = Lasso(alpha=0.3).fit(temp_train, train['price'])\n",
    "# reg = MultinomialNB().fit(temp_train, train['price'])\n",
    "\n",
    "predictions = reg.predict(temp_test)\n",
    "\n",
    "mse = mean_squared_error(predictions, test['price'])\n",
    "rmse = np.sqrt(mse)"
   ]
  },
  {
   "cell_type": "code",
   "execution_count": 125,
   "metadata": {},
   "outputs": [
    {
     "name": "stdout",
     "output_type": "stream",
     "text": [
      "9.851364515957638\n"
     ]
    }
   ],
   "source": [
    "print(rmse)"
   ]
  },
  {
   "cell_type": "code",
   "execution_count": null,
   "metadata": {
    "collapsed": true
   },
   "outputs": [],
   "source": []
  },
  {
   "cell_type": "code",
   "execution_count": 194,
   "metadata": {
    "collapsed": true
   },
   "outputs": [],
   "source": [
    "df = pd.read_csv('./data/dish_info.csv')\n",
    "df.drop('index', inplace=True,axis=1)\n",
    "\n",
    "# get rid of outliers\n",
    "df = df[pd.notnull(df['name'])]\n",
    "df = df[df['price'] <= 100]\n",
    "\n",
    "# get rid of invalid names\n",
    "df['name'] = df['name'].apply(process_names)\n",
    "df = df[df['name'].str.len() != 0]\n",
    "df = df[~df['name'].str.isnumeric()]\n",
    "\n",
    "train, test = train_test_split(df, test_size=0.2, random_state=0)\n",
    "\n",
    "temp = train.groupby('kitchen_id')['price'].mean().reset_index()\n",
    "\n",
    "kitchen_status = pd.merge(kitchen_df, temp, on='kitchen_id', how='left')[['kitchen_id', 'city_id', 'staple_price', 'like_num', 'price']]"
   ]
  },
  {
   "cell_type": "code",
   "execution_count": 195,
   "metadata": {},
   "outputs": [
    {
     "data": {
      "text/plain": [
       "16561"
      ]
     },
     "execution_count": 195,
     "metadata": {},
     "output_type": "execute_result"
    }
   ],
   "source": [
    "len(kitchen_status)"
   ]
  },
  {
   "cell_type": "code",
   "execution_count": 196,
   "metadata": {},
   "outputs": [
    {
     "data": {
      "text/plain": [
       "16508"
      ]
     },
     "execution_count": 196,
     "metadata": {},
     "output_type": "execute_result"
    }
   ],
   "source": [
    "kitchen_status.dropna(inplace=True)\n",
    "len(kitchen_status)"
   ]
  },
  {
   "cell_type": "code",
   "execution_count": null,
   "metadata": {
    "collapsed": true
   },
   "outputs": [],
   "source": []
  },
  {
   "cell_type": "code",
   "execution_count": 197,
   "metadata": {},
   "outputs": [
    {
     "data": {
      "text/plain": [
       "staple_price\n",
       "1    21.143676\n",
       "2    21.643201\n",
       "3    22.927295\n",
       "4    24.030994\n",
       "5    28.202615\n",
       "Name: price, dtype: float64"
      ]
     },
     "execution_count": 197,
     "metadata": {},
     "output_type": "execute_result"
    }
   ],
   "source": [
    "kitchen_status.groupby('staple_price')['price'].mean()"
   ]
  },
  {
   "cell_type": "code",
   "execution_count": 198,
   "metadata": {},
   "outputs": [
    {
     "data": {
      "text/plain": [
       "city_id\n",
       "110100    21.692270\n",
       "310100    20.842142\n",
       "330100    19.711258\n",
       "420100     9.333333\n",
       "440100    20.781189\n",
       "440300    21.134903\n",
       "Name: price, dtype: float64"
      ]
     },
     "execution_count": 198,
     "metadata": {},
     "output_type": "execute_result"
    }
   ],
   "source": [
    "kitchen_status.groupby('city_id')['price'].mean()"
   ]
  },
  {
   "cell_type": "code",
   "execution_count": 200,
   "metadata": {
    "collapsed": true
   },
   "outputs": [],
   "source": [
    "kitchen_mean = train.groupby('kitchen_id')['price'].mean().reset_index().rename(columns={'price':'kitchen_mean'})"
   ]
  },
  {
   "cell_type": "code",
   "execution_count": 201,
   "metadata": {
    "collapsed": true
   },
   "outputs": [],
   "source": [
    "df_new = pd.merge(kitchen_mean, kitchen_df, on='kitchen_id', how='left')[['kitchen_id', 'city_id', 'staple_price', 'kitchen_mean']]"
   ]
  },
  {
   "cell_type": "code",
   "execution_count": null,
   "metadata": {
    "collapsed": true
   },
   "outputs": [],
   "source": []
  },
  {
   "cell_type": "code",
   "execution_count": 202,
   "metadata": {
    "scrolled": true
   },
   "outputs": [
    {
     "data": {
      "text/plain": [
       "21.376152468888094"
      ]
     },
     "execution_count": 202,
     "metadata": {},
     "output_type": "execute_result"
    }
   ],
   "source": [
    "df_new.kitchen_mean.mean()"
   ]
  },
  {
   "cell_type": "code",
   "execution_count": 203,
   "metadata": {},
   "outputs": [
    {
     "data": {
      "text/plain": [
       "staple_price\n",
       "1   -0.232477\n",
       "2    0.267048\n",
       "3    1.551142\n",
       "4    2.654841\n",
       "5    6.826462\n",
       "Name: kitchen_mean, dtype: float64"
      ]
     },
     "execution_count": 203,
     "metadata": {},
     "output_type": "execute_result"
    }
   ],
   "source": [
    "df_new.groupby('staple_price')['kitchen_mean'].mean() - df_new.kitchen_mean.mean()"
   ]
  },
  {
   "cell_type": "code",
   "execution_count": 204,
   "metadata": {},
   "outputs": [
    {
     "data": {
      "text/plain": [
       "city_id\n",
       "110100     0.316118\n",
       "310100    -0.534011\n",
       "330100    -1.664895\n",
       "420100   -12.042819\n",
       "440100    -0.594963\n",
       "440300    -0.241249\n",
       "Name: kitchen_mean, dtype: float64"
      ]
     },
     "execution_count": 204,
     "metadata": {},
     "output_type": "execute_result"
    }
   ],
   "source": [
    "df_new.groupby('city_id')['kitchen_mean'].mean() - df_new.kitchen_mean.mean()"
   ]
  },
  {
   "cell_type": "code",
   "execution_count": 205,
   "metadata": {
    "collapsed": true
   },
   "outputs": [],
   "source": [
    "df_new.loc[df_new['city_id'] == 110100, ['kitchen_mean']] += 0.316118\n",
    "df_new.loc[df_new['city_id'] == 310100, ['kitchen_mean']] -= 0.534011\n",
    "df_new.loc[df_new['city_id'] == 330100, ['kitchen_mean']] -= 1.664895\n",
    "df_new.loc[df_new['city_id'] == 420100, ['kitchen_mean']] -= 12.042819\n",
    "df_new.loc[df_new['city_id'] == 440100, ['kitchen_mean']] -= 0.594963\n",
    "df_new.loc[df_new['city_id'] == 440300, ['kitchen_mean']] -= 0.241249"
   ]
  },
  {
   "cell_type": "code",
   "execution_count": 206,
   "metadata": {
    "collapsed": true
   },
   "outputs": [],
   "source": [
    "price_modified_by_city_only = df_new.kitchen_mean"
   ]
  },
  {
   "cell_type": "code",
   "execution_count": 212,
   "metadata": {
    "collapsed": true
   },
   "outputs": [],
   "source": [
    "df_new.loc[df_new['staple_price'] == 1, ['kitchen_mean']] -= 0.232477\n",
    "df_new.loc[df_new['staple_price'] == 2, ['kitchen_mean']] -= 0.267048\n",
    "df_new.loc[df_new['staple_price'] == 3, ['kitchen_mean']] -= 1.551142\n",
    "df_new.loc[df_new['staple_price'] == 4, ['kitchen_mean']] -= 2.654841\n",
    "df_new.loc[df_new['staple_price'] == 5, ['kitchen_mean']] -= 6.826462"
   ]
  },
  {
   "cell_type": "code",
   "execution_count": 213,
   "metadata": {
    "collapsed": true
   },
   "outputs": [],
   "source": [
    "price_modified = df_new.kitchen_mean"
   ]
  },
  {
   "cell_type": "code",
   "execution_count": 214,
   "metadata": {},
   "outputs": [
    {
     "name": "stderr",
     "output_type": "stream",
     "text": [
      "F:\\acconda\\lib\\site-packages\\ipykernel_launcher.py:2: SettingWithCopyWarning: \n",
      "A value is trying to be set on a copy of a slice from a DataFrame.\n",
      "Try using .loc[row_indexer,col_indexer] = value instead\n",
      "\n",
      "See the caveats in the documentation: http://pandas.pydata.org/pandas-docs/stable/indexing.html#indexing-view-versus-copy\n",
      "  \n"
     ]
    }
   ],
   "source": [
    "df_needed = df_new[['kitchen_id']]\n",
    "df_needed['kitchen_mean'] = price_modified_by_city_only"
   ]
  },
  {
   "cell_type": "code",
   "execution_count": null,
   "metadata": {
    "collapsed": true
   },
   "outputs": [],
   "source": []
  },
  {
   "cell_type": "code",
   "execution_count": 215,
   "metadata": {
    "collapsed": true
   },
   "outputs": [],
   "source": [
    "train_k = pd.merge(train, df_needed, on='kitchen_id', how='left')\n",
    "test_k = pd.merge(test, df_needed, on='kitchen_id', how='left')"
   ]
  },
  {
   "cell_type": "code",
   "execution_count": 216,
   "metadata": {
    "collapsed": true
   },
   "outputs": [],
   "source": [
    "test_k['kitchen_mean'].fillna(df_new.kitchen_mean.mean(), inplace=True)"
   ]
  },
  {
   "cell_type": "code",
   "execution_count": 217,
   "metadata": {
    "collapsed": true
   },
   "outputs": [],
   "source": [
    "mse = mean_squared_error(test_k['price'], test_k['kitchen_mean'])\n",
    "rmse = np.sqrt(mse)"
   ]
  },
  {
   "cell_type": "code",
   "execution_count": 218,
   "metadata": {},
   "outputs": [
    {
     "name": "stdout",
     "output_type": "stream",
     "text": [
      "9.899922480173068\n"
     ]
    }
   ],
   "source": [
    "print(rmse)"
   ]
  },
  {
   "cell_type": "code",
   "execution_count": 187,
   "metadata": {},
   "outputs": [
    {
     "name": "stdout",
     "output_type": "stream",
     "text": [
      "9.899922480173068\n"
     ]
    }
   ],
   "source": [
    "print(rmse)"
   ]
  },
  {
   "cell_type": "code",
   "execution_count": null,
   "metadata": {
    "collapsed": true
   },
   "outputs": [],
   "source": []
  }
 ],
 "metadata": {
  "kernelspec": {
   "display_name": "Python 3",
   "language": "python",
   "name": "python3"
  },
  "language_info": {
   "codemirror_mode": {
    "name": "ipython",
    "version": 3
   },
   "file_extension": ".py",
   "mimetype": "text/x-python",
   "name": "python",
   "nbconvert_exporter": "python",
   "pygments_lexer": "ipython3",
   "version": "3.6.3"
  }
 },
 "nbformat": 4,
 "nbformat_minor": 2
}
