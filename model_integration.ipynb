{
 "cells": [
  {
   "cell_type": "code",
   "execution_count": 1,
   "metadata": {
    "collapsed": true
   },
   "outputs": [],
   "source": [
    "import numpy as np\n",
    "import pandas as pd\n",
    "\n",
    "import warnings\n",
    "warnings.filterwarnings('ignore')\n",
    "\n",
    "from sklearn import tree\n",
    "from sklearn.tree import DecisionTreeRegressor\n",
    "from sklearn.ensemble import RandomForestRegressor\n",
    "from sklearn.model_selection import train_test_split,cross_val_score,GridSearchCV,RandomizedSearchCV\n",
    "from sklearn.linear_model import LinearRegression, Ridge, Lasso\n",
    "from sklearn.preprocessing import PolynomialFeatures,MinMaxScaler,StandardScaler\n",
    "from sklearn.metrics import mean_squared_error, mean_absolute_error,classification_report,roc_auc_score,roc_curve\n",
    "from sklearn.model_selection import learning_curve, validation_curve\n",
    "from scipy.stats import randint,zscore,skew,kurtosis\n",
    "from sklearn.metrics import r2_score\n",
    "from sklearn.decomposition import PCA"
   ]
  },
  {
   "cell_type": "markdown",
   "metadata": {},
   "source": [
    "### Import Data"
   ]
  },
  {
   "cell_type": "code",
   "execution_count": 2,
   "metadata": {
    "collapsed": true
   },
   "outputs": [],
   "source": [
    "def tokenize(name_string, only_noun=True):\n",
    "    w_pair = pseg.cut(str(name_string))\n",
    "    tokens = [(word, tag) for word, tag in w_pair]\n",
    "    if only_noun:\n",
    "            tokens = [wt[0] for wt in tokens if wt[1].startswith('n')]\n",
    "    return tokens"
   ]
  },
  {
   "cell_type": "code",
   "execution_count": 3,
   "metadata": {
    "collapsed": true
   },
   "outputs": [],
   "source": [
    "def process_names(name):\n",
    "    return ''.join([i for i in name if i.isalpha()])"
   ]
  },
  {
   "cell_type": "code",
   "execution_count": 4,
   "metadata": {
    "collapsed": true
   },
   "outputs": [],
   "source": [
    "def build_vocab(names, min_freq=10):\n",
    "    vocab = {}\n",
    "    for tokens in names:\n",
    "        for t in tokens:\n",
    "            if t in vocab:\n",
    "                vocab[t] += 1\n",
    "            else:\n",
    "                vocab[t] = 1\n",
    "\n",
    "    keys = list(vocab.keys())\n",
    "\n",
    "    for k in keys:\n",
    "        if len(k) < 2:\n",
    "            del vocab[k]\n",
    "\n",
    "        if k in vocab:\n",
    "            if vocab[k] < min_freq:\n",
    "                del [vocab[k]]\n",
    "                \n",
    "    return vocab"
   ]
  },
  {
   "cell_type": "code",
   "execution_count": 8,
   "metadata": {
    "collapsed": true
   },
   "outputs": [],
   "source": [
    "def get_price(row, token_price_dict):\n",
    "    price_list = [token_price_dict[t] for t in row if t in token_price_dict]\n",
    "    if len(price_list) == 0:\n",
    "        return 0\n",
    "    else:\n",
    "        return sum(price_list) / len(price_list)"
   ]
  },
  {
   "cell_type": "code",
   "execution_count": 5,
   "metadata": {
    "collapsed": true
   },
   "outputs": [],
   "source": [
    "def build_price_dict(df, vocab):\n",
    "    price_dict = {}\n",
    "    for index, row in df.iterrows():\n",
    "        for t in row['name']:\n",
    "            if t in vocab:\n",
    "                price_dict[t] = price_dict.get(t, 0) + row['price']\n",
    "                \n",
    "    return price_dict"
   ]
  },
  {
   "cell_type": "code",
   "execution_count": 1,
   "metadata": {
    "collapsed": true
   },
   "outputs": [],
   "source": [
    "def data_import():\n",
    "    df_dish = pd.read_csv('../data/dish_info.csv')\n",
    "    print('Orginal size of the dataset is {}'.format(len(df_dish)))\n",
    "    print('Processing dataset..')\n",
    "\n",
    "    df_dish1 = df_dish[(df_dish['price'] > 0) & (df_dish['price'] < 100)]\n",
    "    df_dish1['name'] = df_dish1['name'].apply(process_names)\n",
    "    df_dish1 = df_dish1[pd.notnull(df_dish1['name'])]\n",
    "    df_dish1 = df_dish1[df_dish1['name'].str.len() != 0]\n",
    "    df_dish1 = df_dish1[~df_dish1['name'].str.isnumeric()]\n",
    "    print('After processing, the size of the dataset is {}'.format(len(df_dish1)))\n",
    "    print('Merging with order dataset..')\n",
    "    \n",
    "    df_order = pd.read_csv('../data/OrderAprtoJun.csv')\n",
    "    kitchen_orders = df_order.groupby('kitchen_id').size().reset_index(name='kitchen_orders')\n",
    "    df_dish2 = pd.merge(df_dish1, kitchen_orders, on='kitchen_id', how='left')\n",
    "\n",
    "    # kitchen location included\n",
    "    df_kitchen = pd.read_csv('../data/kitchen_info.csv')\n",
    "    df_dish3 = pd.merge(df_dish2, df_kitchen[['kitchen_id', 'city_id']], on='kitchen_id', how='left')\n",
    "    \n",
    "    # if 'kitchen_id' and 'name' included    \n",
    "    df_dish3 = df_dish2.drop(columns =['index','dish_id','tags','description','check_time','refusal_ground','create_time',\\\n",
    "                                   'update_time','speech_time','dish_feature','materials','net_price'], axis=1).fillna(0)\n",
    "    print('Done!')\n",
    "    return df_dish3"
   ]
  },
  {
   "cell_type": "code",
   "execution_count": 34,
   "metadata": {
    "collapsed": true
   },
   "outputs": [],
   "source": [
    "def kitchen_median(df):\n",
    "    return df.groupby('kitchen_id')['price'].median().reset_index().rename(columns={'price': 'kitchen_median'})"
   ]
  },
  {
   "cell_type": "code",
   "execution_count": 35,
   "metadata": {
    "collapsed": true
   },
   "outputs": [],
   "source": [
    "def dish_median(df):\n",
    "    return df.groupby('name')['price'].median().reset_index().rename(columns={'price': 'dish_median'})"
   ]
  },
  {
   "cell_type": "markdown",
   "metadata": {},
   "source": [
    "### Setup Models"
   ]
  },
  {
   "cell_type": "code",
   "execution_count": 170,
   "metadata": {
    "collapsed": true
   },
   "outputs": [],
   "source": [
    "def split_data(df):\n",
    "    print('Spliting the dataset into train(80%) and test(20%)')\n",
    "    train, test = train_test_split(df, test_size=0.2, random_state=5)\n",
    "    m = train.price.median()\n",
    "    \n",
    "    # adding kitchen_mean, dish_mean\n",
    "    df_price = kitchen_median(train)\n",
    "    df_dish_price = dish_median(train)\n",
    "    \n",
    "    X_train = pd.merge(train, df_price, on='kitchen_id', how='left')\n",
    "    X_train = pd.merge(X_train, df_dish_price, on='name', how='left')\n",
    "    \n",
    "    X_train = X_train.drop(['kitchen_id'], axis=1)\n",
    "    X_train = X_train.drop(['name'], axis=1)\n",
    "    \n",
    "#     X_train.head()\n",
    "    \n",
    "    X_train['dish_median'].fillna(m, inplace=True)\n",
    "    X_train['kitchen_median'].fillna(m, inplace=True)\n",
    "    # adding kitchen_mean\n",
    "    \n",
    "    X_train = X_train.drop(['price'], axis=1)\n",
    "    \n",
    "    y_train = train['price']\n",
    "    \n",
    "    # adding kitchen_mean\n",
    "    X_test = pd.merge(test, df_price, on='kitchen_id', how='left')\n",
    "    X_test = pd.merge(X_test, df_dish_price, on='name', how='left')\n",
    "    X_test = X_test.drop(['kitchen_id'], axis=1)\n",
    "    X_test = X_test.drop(['name'], axis=1)\n",
    "    \n",
    "    X_test['dish_median'].fillna(m, inplace=True)\n",
    "    X_test['kitchen_median'].fillna(m, inplace=True)\n",
    "    # adding kitchen_mean\n",
    "    \n",
    "    X_test = X_test.drop(['price'], axis=1)\n",
    "    \n",
    "    y_test = test['price'] \n",
    "    print('Train size: {}'.format(len(X_train)))\n",
    "    print('Test size: {}'.format(len(X_test)))\n",
    "    return X_train, y_train, X_test, y_test"
   ]
  },
  {
   "cell_type": "code",
   "execution_count": 33,
   "metadata": {
    "collapsed": true
   },
   "outputs": [],
   "source": [
    "def evaluation(x,y,model):\n",
    "    price_predictions = model.predict(x)\n",
    "    mse = mean_squared_error(y, price_predictions)\n",
    "    rmse = np.sqrt(mse)\n",
    "    mae = mean_absolute_error(y, price_predictions)\n",
    "    r2 = r2_score(y, price_predictions)\n",
    "    return 'RMSE:{}'.format(rmse), 'MAE:{}'.format(mae),'R-square:{}'.format(r2)"
   ]
  },
  {
   "cell_type": "code",
   "execution_count": 32,
   "metadata": {
    "collapsed": true
   },
   "outputs": [],
   "source": [
    "import time\n",
    "\n",
    "start = time.time()\n",
    "def fit_model(X_train,y_train, X_test, y_test):\n",
    "    print('Fitting model..')\n",
    "    forest_reg = RandomForestRegressor(random_state=3,max_features=12, n_estimators=100,max_depth=10).fit(X_train, y_train)\n",
    "    print('Took {} seconds to train the model'.format(round(time.time() - start, 2)))\n",
    "    \n",
    "    forest_reg.fit(X_train, y_train)\n",
    "    print('in-sample evaluation:{}'.format(evaluation(X_train, y_train, forest_reg)))\n",
    "    \n",
    "    print('')\n",
    "    forest_reg.fit(X_test, y_test)\n",
    "    print('out-sample evaluation:{}'.format(evaluation(X_test, y_test, forest_reg)))\n",
    "    "
   ]
  },
  {
   "cell_type": "code",
   "execution_count": 175,
   "metadata": {
    "scrolled": true
   },
   "outputs": [
    {
     "name": "stdout",
     "output_type": "stream",
     "text": [
      "Orginal size of the dataset is 382941\n",
      "Processing dataset..\n",
      "After processing, the size of the dataset is 380041\n",
      "Merging with order dataset..\n",
      "Done!\n",
      "Spliting the dataset into train(80%) and test(20%)\n",
      "Train size: 304032\n",
      "Test size: 76009\n"
     ]
    }
   ],
   "source": [
    "df_dish = data_import()\n",
    "X_train, y_train, X_test, y_test = split_data(df_dish)"
   ]
  },
  {
   "cell_type": "code",
   "execution_count": null,
   "metadata": {
    "collapsed": true
   },
   "outputs": [],
   "source": []
  },
  {
   "cell_type": "markdown",
   "metadata": {},
   "source": [
    "### original"
   ]
  },
  {
   "cell_type": "code",
   "execution_count": 63,
   "metadata": {},
   "outputs": [
    {
     "name": "stdout",
     "output_type": "stream",
     "text": [
      "Fitting model..\n",
      "Took 77.99 seconds\n",
      "in-sample evaluation:('RMSE:9.112406431468235', 'MAE:6.029471329671213', 'R-square:0.21702755069399426')\n",
      "\n",
      "out-sample evaluation:('RMSE:8.877321879739693', 'MAE:5.9388763387042545', 'R-square:0.25476089947121305')\n"
     ]
    }
   ],
   "source": [
    "fit_model(X_train,y_train, X_test, y_test)"
   ]
  },
  {
   "cell_type": "markdown",
   "metadata": {},
   "source": [
    "### with kitchen_median"
   ]
  },
  {
   "cell_type": "code",
   "execution_count": 116,
   "metadata": {},
   "outputs": [
    {
     "name": "stdout",
     "output_type": "stream",
     "text": [
      "Fitting model..\n",
      "Took 472.4 seconds to train the model\n",
      "in-sample evaluation:('RMSE:8.191574519474177', 'MAE:5.356326475790847', 'R-square:0.3672748612529624')\n",
      "\n",
      "out-sample evaluation:('RMSE:8.271708214654385', 'MAE:5.5588714045276975', 'R-square:0.35297343591554386')\n"
     ]
    }
   ],
   "source": [
    "fit_model(X_train, y_train, X_test, y_test)"
   ]
  },
  {
   "cell_type": "code",
   "execution_count": null,
   "metadata": {
    "collapsed": true
   },
   "outputs": [],
   "source": []
  },
  {
   "cell_type": "markdown",
   "metadata": {},
   "source": [
    "### with dish_median"
   ]
  },
  {
   "cell_type": "code",
   "execution_count": 148,
   "metadata": {},
   "outputs": [
    {
     "name": "stdout",
     "output_type": "stream",
     "text": [
      "Fitting model..\n",
      "Took 91.91 seconds to train the model\n",
      "in-sample evaluation:('RMSE:3.7192829335998665', 'MAE:1.9399541272073666', 'R-square:0.8695636157522533')\n",
      "\n",
      "out-sample evaluation:('RMSE:7.025540427152184', 'MAE:4.216528172430425', 'R-square:0.5332426417375431')\n"
     ]
    }
   ],
   "source": [
    "fit_model(X_train,y_train, X_test, y_test)"
   ]
  },
  {
   "cell_type": "markdown",
   "metadata": {},
   "source": [
    "### test with another random_state"
   ]
  },
  {
   "cell_type": "code",
   "execution_count": 166,
   "metadata": {
    "scrolled": true
   },
   "outputs": [
    {
     "name": "stdout",
     "output_type": "stream",
     "text": [
      "Fitting model..\n",
      "Took 109.21 seconds to train the model\n",
      "in-sample evaluation:('RMSE:3.7311068761611415', 'MAE:1.946002461047007', 'R-square:0.8692713417092959')\n",
      "\n",
      "out-sample evaluation:('RMSE:6.899004533650003', 'MAE:4.15771996554241', 'R-square:0.542333685602073')\n"
     ]
    }
   ],
   "source": [
    "fit_model(X_train,y_train, X_test, y_test)"
   ]
  },
  {
   "cell_type": "code",
   "execution_count": null,
   "metadata": {
    "collapsed": true
   },
   "outputs": [],
   "source": []
  },
  {
   "cell_type": "markdown",
   "metadata": {},
   "source": [
    "### adding location"
   ]
  },
  {
   "cell_type": "code",
   "execution_count": 176,
   "metadata": {
    "scrolled": true
   },
   "outputs": [
    {
     "name": "stdout",
     "output_type": "stream",
     "text": [
      "Fitting model..\n",
      "Took 248.95 seconds to train the model\n",
      "in-sample evaluation:('RMSE:3.7311068761611415', 'MAE:1.946002461047007', 'R-square:0.8692713417092959')\n",
      "\n",
      "out-sample evaluation:('RMSE:6.899004533650003', 'MAE:4.15771996554241', 'R-square:0.542333685602073')\n"
     ]
    }
   ],
   "source": [
    "fit_model(X_train,y_train, X_test, y_test)"
   ]
  },
  {
   "cell_type": "code",
   "execution_count": null,
   "metadata": {
    "collapsed": true
   },
   "outputs": [],
   "source": []
  },
  {
   "cell_type": "markdown",
   "metadata": {},
   "source": [
    "### using tokens mean"
   ]
  },
  {
   "cell_type": "code",
   "execution_count": 47,
   "metadata": {
    "scrolled": true
   },
   "outputs": [
    {
     "name": "stdout",
     "output_type": "stream",
     "text": [
      "Fitting model..\n",
      "Took 65.03 seconds to train the model\n",
      "in-sample evaluation:('RMSE:6.4582977492979', 'MAE:3.9571096460430843', 'R-square:0.6059240732025206')\n",
      "\n",
      "out-sample evaluation:('RMSE:6.456177272357769', 'MAE:4.0261079114730505', 'R-square:0.6089446288590019')\n"
     ]
    }
   ],
   "source": [
    "fit_model(X_train,y_train, X_test, y_test)"
   ]
  },
  {
   "cell_type": "code",
   "execution_count": null,
   "metadata": {
    "collapsed": true
   },
   "outputs": [],
   "source": []
  },
  {
   "cell_type": "code",
   "execution_count": null,
   "metadata": {
    "collapsed": true
   },
   "outputs": [],
   "source": []
  },
  {
   "cell_type": "code",
   "execution_count": null,
   "metadata": {
    "collapsed": true
   },
   "outputs": [],
   "source": []
  },
  {
   "cell_type": "code",
   "execution_count": 18,
   "metadata": {
    "collapsed": true
   },
   "outputs": [],
   "source": [
    "def data_import():\n",
    "    df_dish = pd.read_csv('../data/dish_info.csv')\n",
    "    print('Orginal size of the dataset is {}'.format(len(df_dish)))\n",
    "    print('Processing dataset..')\n",
    "\n",
    "    df_dish = df_dish[(df_dish['price'] > 0) & (df_dish['price'] < 100)]\n",
    "#     df_dish.drop('index', inplace=True,axis=1)\n",
    "    \n",
    "    # get rid of outliers\n",
    "    df_dish = df_dish[pd.notnull(df_dish['name'])]\n",
    "    df_dish = df_dish[df_dish['price'] <= 100]\n",
    "    \n",
    "    # get rid of invalid names\n",
    "    df_dish['name'] = df_dish['name'].apply(process_names)\n",
    "    df_dish = df_dish[df_dish['name'].str.len() != 0]\n",
    "    df_dish = df_dish[~df_dish['name'].str.isnumeric()]\n",
    "    print('After processing, the size of the dataset is {}'.format(len(df_dish)))\n",
    "    print('Merging with order dataset..')\n",
    "    \n",
    "    df_order = pd.read_csv('../data/OrderAprtoJun.csv')\n",
    "    kitchen_orders = df_order.groupby('kitchen_id').size().reset_index(name='kitchen_orders')\n",
    "    df_dish2 = pd.merge(df_dish, kitchen_orders, on='kitchen_id', how='left')\n",
    "\n",
    "    # kitchen location included\n",
    "    df_kitchen = pd.read_csv('../data/kitchen_info.csv')\n",
    "    df_dish3 = pd.merge(df_dish2, df_kitchen[['kitchen_id', 'city_id']], on='kitchen_id', how='left')\n",
    "    \n",
    "    # if 'kitchen_id' and 'name' included    \n",
    "    df_dish3 = df_dish2.drop(columns =['index','dish_id','tags','description','check_time','refusal_ground','create_time',\\\n",
    "                                   'update_time','speech_time','dish_feature','materials','net_price'], axis=1).fillna(0)\n",
    "    print('Done!')\n",
    "    return df_dish3"
   ]
  },
  {
   "cell_type": "code",
   "execution_count": 29,
   "metadata": {
    "collapsed": true
   },
   "outputs": [],
   "source": [
    "def split_data_with_token_mean(df):\n",
    "    # tokenize the names of the dishes\n",
    "    start = time.time()\n",
    "    df['name'] = df['name'].apply(tokenize)\n",
    "    print('used {:0.2f} seconds to tokenize the names'.format(time.time() - start))\n",
    "    \n",
    "    # split the dataframe into training and testing\n",
    "    train, test = train_test_split(df, test_size=0.2, random_state=0)\n",
    "    \n",
    "    # build vocab using the dish names in train\n",
    "    names = list(train['name'])\n",
    "    vocab = build_vocab(names, min_freq=5)\n",
    "    \n",
    "    # get the summation of price for all tokens\n",
    "    start = time.time()\n",
    "    price = build_price_dict(train, vocab)\n",
    "    print('used {:0.2f} seconds to get tokens prices'.format(time.time() - start))\n",
    "    \n",
    "    # build reference dataframe\n",
    "    df_outcome = pd.DataFrame({'name':list(vocab.keys()), 'count': list(vocab.values()), 'price_sum':list(price.values())})\n",
    "    df_outcome['mean_price'] = df_outcome['price_sum'] / df_outcome['count']\n",
    "    \n",
    "    token_price_dict = dict(zip(df_outcome.name, df_outcome.mean_price))\n",
    "    m = train.price.median()\n",
    "    \n",
    "    train['tokens_mean'] = train['name'].apply(lambda x: (get_price(x, token_price_dict)))\n",
    "    test['tokens_mean'] = test['name'].apply(lambda x: (get_price(x, token_price_dict)))\n",
    "    test['tokens_mean'].fillna('')\n",
    "    \n",
    "    # adding kitchen_mean, dish_mean\n",
    "    df_price = kitchen_median(train)\n",
    "#     df_dish_price = dish_median(train)\n",
    "    df_dish_price = df_outcome[['kithen_id', 'mean_']]\n",
    "    \n",
    "    X_train = pd.merge(train, df_price, on='kitchen_id', how='left')\n",
    "    X_train = pd.merge(X_train, df_dish_price, on='name', how='left')\n",
    "    \n",
    "    X_train = X_train.drop(['kitchen_id'], axis=1)\n",
    "    X_train = X_train.drop(['name'], axis=1)\n",
    "    \n",
    "#     X_train.head()\n",
    "    \n",
    "    X_train['kitchen_median'].fillna(m, inplace=True)\n",
    "    # adding kitchen_mean\n",
    "    \n",
    "    X_train = X_train.drop(['price'], axis=1)\n",
    "    \n",
    "    y_train = train['price']\n",
    "    \n",
    "    # adding kitchen_mean\n",
    "    X_test = pd.merge(test, df_price, on='kitchen_id', how='left')\n",
    "    X_test = pd.merge(X_test, df_dish_price, on='name', how='left')\n",
    "    X_test = X_test.drop(['kitchen_id'], axis=1)\n",
    "    X_test = X_test.drop(['name'], axis=1)\n",
    "    \n",
    "    X_test['kitchen_median'].fillna(m, inplace=True)\n",
    "    # adding kitchen_mean\n",
    "    \n",
    "    X_test = X_test.drop(['price'], axis=1)\n",
    "    \n",
    "    y_test = test['price'] \n",
    "    print('Train size: {}'.format(len(X_train)))\n",
    "    print('Test size: {}'.format(len(X_test)))\n",
    "    return X_train, y_train, X_test, y_test"
   ]
  },
  {
   "cell_type": "code",
   "execution_count": null,
   "metadata": {
    "collapsed": true
   },
   "outputs": [],
   "source": []
  },
  {
   "cell_type": "code",
   "execution_count": 25,
   "metadata": {
    "collapsed": true
   },
   "outputs": [],
   "source": [
    "import time\n",
    "from sklearn.model_selection import train_test_split\n",
    "from sklearn.metrics import mean_squared_error"
   ]
  },
  {
   "cell_type": "code",
   "execution_count": 26,
   "metadata": {
    "collapsed": true
   },
   "outputs": [],
   "source": [
    "import pandas as pd\n",
    "import numpy as np"
   ]
  },
  {
   "cell_type": "code",
   "execution_count": 27,
   "metadata": {
    "collapsed": true
   },
   "outputs": [],
   "source": [
    "import jieba\n",
    "import jieba.posseg as pseg"
   ]
  },
  {
   "cell_type": "code",
   "execution_count": 24,
   "metadata": {},
   "outputs": [
    {
     "name": "stdout",
     "output_type": "stream",
     "text": [
      "Orginal size of the dataset is 382941\n",
      "Processing dataset..\n",
      "After processing, the size of the dataset is 380041\n",
      "Merging with order dataset..\n",
      "Done!\n"
     ]
    }
   ],
   "source": [
    "df_dish = data_import()\n",
    "# X_train, y_train, X_test, y_test = split_data(df_dish)"
   ]
  },
  {
   "cell_type": "code",
   "execution_count": 46,
   "metadata": {},
   "outputs": [
    {
     "name": "stdout",
     "output_type": "stream",
     "text": [
      "used 45.97 seconds to tokenize the names\n",
      "used 21.67 seconds to get tokens prices\n",
      "Train size: 304032\n",
      "Test size: 76009\n"
     ]
    }
   ],
   "source": [
    "df = df_dish\n",
    "\n",
    "# tokenize the names of the dishes\n",
    "start = time.time()\n",
    "df['name'] = df['name'].apply(tokenize)\n",
    "print('used {:0.2f} seconds to tokenize the names'.format(time.time() - start))\n",
    "\n",
    "# split the dataframe into training and testing\n",
    "train, test = train_test_split(df, test_size=0.2, random_state=0)\n",
    "\n",
    "# build vocab using the dish names in train\n",
    "names = list(train['name'])\n",
    "vocab = build_vocab(names, min_freq=5)\n",
    "\n",
    "# get the summation of price for all tokens\n",
    "start = time.time()\n",
    "price = build_price_dict(train, vocab)\n",
    "print('used {:0.2f} seconds to get tokens prices'.format(time.time() - start))\n",
    "\n",
    "# build reference dataframe\n",
    "df_outcome = pd.DataFrame({'name':list(vocab.keys()), 'count': list(vocab.values()), 'price_sum':list(price.values())})\n",
    "df_outcome['mean_price'] = df_outcome['price_sum'] / df_outcome['count']\n",
    "\n",
    "token_price_dict = dict(zip(df_outcome.name, df_outcome.mean_price))\n",
    "m = train.price.median()\n",
    "\n",
    "train['tokens_mean'] = train['name'].apply(lambda x: (get_price(x, token_price_dict)))\n",
    "test['tokens_mean'] = test['name'].apply(lambda x: (get_price(x, token_price_dict)))\n",
    "test['tokens_mean'].fillna('')\n",
    "\n",
    "# adding kitchen_mean, dish_mean\n",
    "df_price = kitchen_median(train)\n",
    "#     df_dish_price = dish_median(train)\n",
    "# df_dish_price = df_outcome[['kithen_id', 'mean_price']]\n",
    "\n",
    "X_train = pd.merge(train, df_price, on='kitchen_id', how='left')\n",
    "# X_train = pd.merge(X_train, df_dish_price, on='name', how='left')\n",
    "\n",
    "X_train = X_train.drop(['kitchen_id'], axis=1)\n",
    "X_train = X_train.drop(['name'], axis=1)\n",
    "\n",
    "#     X_train.head()\n",
    "\n",
    "X_train['kitchen_median'].fillna(m, inplace=True)\n",
    "# adding kitchen_mean\n",
    "\n",
    "X_train = X_train.drop(['price'], axis=1)\n",
    "\n",
    "y_train = train['price']\n",
    "\n",
    "# adding kitchen_mean\n",
    "X_test = pd.merge(test, df_price, on='kitchen_id', how='left')\n",
    "# X_test = pd.merge(X_test, df_dish_price, on='name', how='left')\n",
    "X_test = X_test.drop(['kitchen_id'], axis=1)\n",
    "X_test = X_test.drop(['name'], axis=1)\n",
    "\n",
    "X_test['kitchen_median'].fillna(m, inplace=True)\n",
    "# adding kitchen_mean\n",
    "\n",
    "X_test = X_test.drop(['price'], axis=1)\n",
    "\n",
    "y_test = test['price'] \n",
    "print('Train size: {}'.format(len(X_train)))\n",
    "print('Test size: {}'.format(len(X_test)))"
   ]
  },
  {
   "cell_type": "code",
   "execution_count": 47,
   "metadata": {
    "scrolled": true
   },
   "outputs": [
    {
     "name": "stdout",
     "output_type": "stream",
     "text": [
      "Fitting model..\n",
      "Took 65.03 seconds to train the model\n",
      "in-sample evaluation:('RMSE:6.4582977492979', 'MAE:3.9571096460430843', 'R-square:0.6059240732025206')\n",
      "\n",
      "out-sample evaluation:('RMSE:6.456177272357769', 'MAE:4.0261079114730505', 'R-square:0.6089446288590019')\n"
     ]
    }
   ],
   "source": [
    "fit_model(X_train,y_train, X_test, y_test)"
   ]
  },
  {
   "cell_type": "code",
   "execution_count": null,
   "metadata": {
    "collapsed": true
   },
   "outputs": [],
   "source": []
  },
  {
   "cell_type": "markdown",
   "metadata": {},
   "source": [
    "### Check if feature is important"
   ]
  },
  {
   "cell_type": "code",
   "execution_count": 56,
   "metadata": {},
   "outputs": [
    {
     "data": {
      "text/plain": [
       "0    302322\n",
       "2       857\n",
       "3       629\n",
       "5       224\n",
       "Name: volume, dtype: int64"
      ]
     },
     "execution_count": 56,
     "metadata": {},
     "output_type": "execute_result"
    }
   ],
   "source": [
    "X_train['volume'].value_counts()"
   ]
  },
  {
   "cell_type": "code",
   "execution_count": null,
   "metadata": {
    "collapsed": true
   },
   "outputs": [],
   "source": []
  },
  {
   "cell_type": "code",
   "execution_count": 82,
   "metadata": {
    "scrolled": true
   },
   "outputs": [
    {
     "name": "stdout",
     "output_type": "stream",
     "text": [
      "value counts: 1.0    370789\n",
      "2.0      8743\n",
      "4.0       506\n",
      "0.0         3\n",
      "Name: source, dtype: int64\n"
     ]
    },
    {
     "data": {
      "text/plain": [
       "source\n",
       "0.0    48.333333\n",
       "1.0    21.294235\n",
       "2.0    24.336955\n",
       "4.0    24.762846\n",
       "Name: price, dtype: float64"
      ]
     },
     "execution_count": 82,
     "metadata": {},
     "output_type": "execute_result"
    }
   ],
   "source": [
    "feature_name = 'source'\n",
    "\n",
    "print('value counts:', df_dish[feature_name].value_counts())\n",
    "df_dish.groupby(feature_name)['price'].mean()"
   ]
  },
  {
   "cell_type": "code",
   "execution_count": 81,
   "metadata": {},
   "outputs": [
    {
     "data": {
      "image/png": "[encoded data removed]",
      "text/plain": [
       "<Figure size 432x288 with 1 Axes>"
      ]
     },
     "metadata": {},
     "output_type": "display_data"
    }
   ],
   "source": [
    "import seaborn as sns\n",
    "import matplotlib.pyplot as plt\n",
    "%matplotlib inline\n",
    "\n",
    "ax = sns.scatterplot(x=\"sequence\", y=\"price\", data=df_dish, alpha = 0.5)"
   ]
  },
  {
   "cell_type": "code",
   "execution_count": null,
   "metadata": {
    "collapsed": true
   },
   "outputs": [],
   "source": [
    "'volume', 'is_recommend', 'is_staple', \n",
    "                            'has_staple', 'staple_num', 'staple_price', 'old_package', 'type',\n",
    "                            'taste', 'eat_num', 'is_del', 'tmr_only', 'set_meal', 'sequence', 'source'"
   ]
  },
  {
   "cell_type": "code",
   "execution_count": 84,
   "metadata": {},
   "outputs": [
    {
     "name": "stdout",
     "output_type": "stream",
     "text": [
      "used 49.83 seconds to tokenize the names\n",
      "used 25.07 seconds to get tokens prices\n",
      "Train size: 304032\n",
      "Test size: 76009\n"
     ]
    }
   ],
   "source": [
    "df = df_dish.drop(columns =['stock', 'tomorrow_stock', 'daily_stock', 'staple_type'], axis=1).fillna(0)\n",
    "\n",
    "# tokenize the names of the dishes\n",
    "start = time.time()\n",
    "df['name'] = df['name'].apply(tokenize)\n",
    "print('used {:0.2f} seconds to tokenize the names'.format(time.time() - start))\n",
    "\n",
    "# split the dataframe into training and testing\n",
    "train, test = train_test_split(df, test_size=0.2, random_state=0)\n",
    "\n",
    "# build vocab using the dish names in train\n",
    "names = list(train['name'])\n",
    "vocab = build_vocab(names, min_freq=5)\n",
    "\n",
    "# get the summation of price for all tokens\n",
    "start = time.time()\n",
    "price = build_price_dict(train, vocab)\n",
    "print('used {:0.2f} seconds to get tokens prices'.format(time.time() - start))\n",
    "\n",
    "# build reference dataframe\n",
    "df_outcome = pd.DataFrame({'name':list(vocab.keys()), 'count': list(vocab.values()), 'price_sum':list(price.values())})\n",
    "df_outcome['mean_price'] = df_outcome['price_sum'] / df_outcome['count']\n",
    "\n",
    "token_price_dict = dict(zip(df_outcome.name, df_outcome.mean_price))\n",
    "m = train.price.median()\n",
    "\n",
    "train['tokens_mean'] = train['name'].apply(lambda x: (get_price(x, token_price_dict)))\n",
    "test['tokens_mean'] = test['name'].apply(lambda x: (get_price(x, token_price_dict)))\n",
    "test['tokens_mean'].fillna('')\n",
    "\n",
    "# adding kitchen_mean, dish_mean\n",
    "df_price = kitchen_median(train)\n",
    "#     df_dish_price = dish_median(train)\n",
    "# df_dish_price = df_outcome[['kithen_id', 'mean_price']]\n",
    "\n",
    "X_train = pd.merge(train, df_price, on='kitchen_id', how='left')\n",
    "# X_train = pd.merge(X_train, df_dish_price, on='name', how='left')\n",
    "\n",
    "X_train = X_train.drop(['kitchen_id'], axis=1)\n",
    "X_train = X_train.drop(['name'], axis=1)\n",
    "\n",
    "#     X_train.head()\n",
    "\n",
    "X_train['kitchen_median'].fillna(m, inplace=True)\n",
    "# adding kitchen_mean\n",
    "\n",
    "X_train = X_train.drop(['price'], axis=1)\n",
    "\n",
    "y_train = train['price']\n",
    "\n",
    "# adding kitchen_mean\n",
    "X_test = pd.merge(test, df_price, on='kitchen_id', how='left')\n",
    "# X_test = pd.merge(X_test, df_dish_price, on='name', how='left')\n",
    "X_test = X_test.drop(['kitchen_id'], axis=1)\n",
    "X_test = X_test.drop(['name'], axis=1)\n",
    "\n",
    "X_test['kitchen_median'].fillna(m, inplace=True)\n",
    "# adding kitchen_mean\n",
    "\n",
    "X_test = X_test.drop(['price'], axis=1)\n",
    "\n",
    "y_test = test['price'] \n",
    "print('Train size: {}'.format(len(X_train)))\n",
    "print('Test size: {}'.format(len(X_test)))"
   ]
  },
  {
   "cell_type": "code",
   "execution_count": 85,
   "metadata": {
    "scrolled": true
   },
   "outputs": [
    {
     "name": "stdout",
     "output_type": "stream",
     "text": [
      "Fitting model..\n",
      "Took 76.27 seconds to train the model\n",
      "in-sample evaluation:('RMSE:6.479373572462514', 'MAE:3.947203007091307', 'R-square:0.6033478443592705')\n",
      "\n",
      "out-sample evaluation:('RMSE:6.487331727755425', 'MAE:4.024381565222986', 'R-square:0.605161426638518')\n"
     ]
    }
   ],
   "source": [
    "fit_model(X_train,y_train, X_test, y_test)"
   ]
  },
  {
   "cell_type": "code",
   "execution_count": null,
   "metadata": {
    "collapsed": true
   },
   "outputs": [],
   "source": []
  },
  {
   "cell_type": "code",
   "execution_count": null,
   "metadata": {
    "collapsed": true
   },
   "outputs": [],
   "source": []
  },
  {
   "cell_type": "code",
   "execution_count": 91,
   "metadata": {},
   "outputs": [
    {
     "data": {
      "text/plain": [
       "XGBRegressor(base_score=0.5, booster='gbtree', colsample_bylevel=1,\n",
       "       colsample_bytree=1, gamma=0, learning_rate=0.05, max_delta_step=0,\n",
       "       max_depth=6, min_child_weight=1, missing=None, n_estimators=300,\n",
       "       n_jobs=1, nthread=None, objective='reg:linear', random_state=0,\n",
       "       reg_alpha=0, reg_lambda=1, scale_pos_weight=1, seed=None,\n",
       "       silent=True, subsample=1)"
      ]
     },
     "execution_count": 91,
     "metadata": {},
     "output_type": "execute_result"
    }
   ],
   "source": [
    "from xgboost import XGBRegressor\n",
    "\n",
    "my_model = XGBRegressor(max_depth=6, n_estimators=300, learning_rate=0.05)\n",
    "my_model.fit(X_train, y_train)"
   ]
  },
  {
   "cell_type": "code",
   "execution_count": 92,
   "metadata": {
    "collapsed": true
   },
   "outputs": [],
   "source": [
    "predictions = my_model.predict(X_test)"
   ]
  },
  {
   "cell_type": "code",
   "execution_count": 93,
   "metadata": {
    "collapsed": true
   },
   "outputs": [],
   "source": [
    "mse = mean_squared_error(predictions, y_test)\n",
    "rmse = np.sqrt(mse)"
   ]
  },
  {
   "cell_type": "code",
   "execution_count": 94,
   "metadata": {},
   "outputs": [
    {
     "name": "stdout",
     "output_type": "stream",
     "text": [
      "7.040983629472678\n"
     ]
    }
   ],
   "source": [
    "print(rmse)"
   ]
  },
  {
   "cell_type": "code",
   "execution_count": null,
   "metadata": {
    "collapsed": true
   },
   "outputs": [],
   "source": []
  }
 ],
 "metadata": {
  "kernelspec": {
   "display_name": "Python 3",
   "language": "python",
   "name": "python3"
  },
  "language_info": {
   "codemirror_mode": {
    "name": "ipython",
    "version": 3
   },
   "file_extension": ".py",
   "mimetype": "text/x-python",
   "name": "python",
   "nbconvert_exporter": "python",
   "pygments_lexer": "ipython3",
   "version": "3.6.3"
  }
 },
 "nbformat": 4,
 "nbformat_minor": 2
}
