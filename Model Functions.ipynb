{
 "cells": [
  {
   "cell_type": "code",
   "execution_count": 20,
   "metadata": {
    "collapsed": true
   },
   "outputs": [],
   "source": [
    "import numpy as np\n",
    "import pandas as pd\n",
    "import matplotlib.pyplot as plt\n",
    "%matplotlib inline\n",
    "import seaborn as sns\n",
    "from pandas.tools.plotting import scatter_matrix\n",
    "import warnings\n",
    "warnings.filterwarnings('ignore')\n",
    "\n",
    "from sklearn import tree\n",
    "from sklearn.tree import DecisionTreeRegressor\n",
    "from sklearn.ensemble import RandomForestRegressor\n",
    "from sklearn.model_selection import train_test_split,cross_val_score,GridSearchCV,RandomizedSearchCV\n",
    "from sklearn.linear_model import LinearRegression, Ridge, Lasso\n",
    "from sklearn.preprocessing import PolynomialFeatures,MinMaxScaler,StandardScaler\n",
    "from sklearn.metrics import mean_squared_error, mean_absolute_error,classification_report,roc_auc_score,roc_curve\n",
    "from sklearn.model_selection import learning_curve, validation_curve\n",
    "from scipy.stats import randint,zscore,skew,kurtosis\n",
    "from sklearn.metrics import r2_score\n",
    "from sklearn.decomposition import PCA"
   ]
  },
  {
   "cell_type": "markdown",
   "metadata": {},
   "source": [
    "### Import Data"
   ]
  },
  {
   "cell_type": "code",
   "execution_count": 9,
   "metadata": {
    "collapsed": true
   },
   "outputs": [],
   "source": [
    "def data_import():\n",
    "    df_dish = pd.read_csv('dish.csv')\n",
    "    df_dish1 = df_dish[(df_dish['price'] > 0) & (df_dish['price'] < 100)]\n",
    "    df_order = pd.read_csv('order.csv')\n",
    "    kitchen_orders = df_order.groupby('kitchen_id').size().reset_index(name='kitchen_orders')\n",
    "    df_dish2 = pd.merge(df_dish1, kitchen_orders, on='kitchen_id', how='left')\n",
    "    df_dish3 = df_dish2.drop(columns =['index','dish_id','kitchen_id','name','tags','description','check_time','refusal_ground','create_time',\\\n",
    "                                   'update_time','speech_time','dish_feature','materials','net_price'], axis=1).fillna(0)\n",
    "    return df_dish3\n"
   ]
  },
  {
   "cell_type": "markdown",
   "metadata": {},
   "source": [
    "### Setup Models"
   ]
  },
  {
   "cell_type": "code",
   "execution_count": 15,
   "metadata": {
    "collapsed": true
   },
   "outputs": [],
   "source": [
    "def split_data(df):\n",
    "    train, test = train_test_split(df, test_size=0.2, random_state=42)\n",
    "\n",
    "    X_train = train.drop(['price'], axis=1)\n",
    "    y_train = train['price']\n",
    "\n",
    "    X_test = test.drop(['price'], axis=1)\n",
    "    y_test = test['price'] \n",
    "    return X_train, y_train, X_test, y_test"
   ]
  },
  {
   "cell_type": "code",
   "execution_count": 16,
   "metadata": {
    "collapsed": true
   },
   "outputs": [],
   "source": [
    "def evaluation(x,y,model):\n",
    "    price_predictions = model.predict(x)\n",
    "    mse = mean_squared_error(y, price_predictions)\n",
    "    rmse = np.sqrt(mse)\n",
    "    mae = mean_absolute_error(y, price_predictions)\n",
    "    r2 = r2_score(y, price_predictions)\n",
    "    return 'RMSE:{}'.format(rmse), 'MAE:{}'.format(mae),'R-square:{}'.format(r2)"
   ]
  },
  {
   "cell_type": "code",
   "execution_count": 29,
   "metadata": {
    "collapsed": true
   },
   "outputs": [],
   "source": [
    "def fit_model(X_train,y_train, X_test, y_test):\n",
    "    pca = PCA(n_components=17)\n",
    "    \n",
    "    fit_train = pca.fit(X_train)\n",
    "    reduced_features = pca.transform(X_train)\n",
    "    reduced_features = pd.DataFrame(reduced_features)\n",
    "    forest_reg = RandomForestRegressor(random_state=42,max_features=12, n_estimators=100,max_depth=10).fit(X_train, y_train)\n",
    "    \n",
    "    X_train = reduced_features\n",
    "    forest_reg.fit(X_train, y_train)\n",
    "    print('in-sample evaluation:{}'.format(evaluation(X_train, y_train, forest_reg)))\n",
    "    \n",
    "    fit_test = pca.fit(X_test)\n",
    "    reduced_features_test = pca.transform(X_test)\n",
    "    reduced_features_test = pd.DataFrame(reduced_features_test)\n",
    "    X_test = reduced_features_test\n",
    "    forest_reg.fit(X_test, y_test)\n",
    "    print('out-sample evaluation:{}'.format(evaluation(X_test, y_test, forest_reg)))\n",
    "    "
   ]
  },
  {
   "cell_type": "code",
   "execution_count": 30,
   "metadata": {
    "collapsed": true
   },
   "outputs": [],
   "source": [
    "df_dish = data_import()\n",
    "X_train, y_train, X_test, y_test = split_data(df_dish)"
   ]
  },
  {
   "cell_type": "code",
   "execution_count": 31,
   "metadata": {},
   "outputs": [
    {
     "name": "stdout",
     "output_type": "stream",
     "text": [
      "in-sample evaluation:('RMSE:9.026749938201245', 'MAE:6.007056088815333', 'R-square:0.23116644642595197')\n",
      "out-sample evaluation:('RMSE:8.80354058768713', 'MAE:5.901518737961149', 'R-square:0.2707428371266908')\n"
     ]
    }
   ],
   "source": [
    "fit_model(X_train,y_train, X_test, y_test)"
   ]
  }
 ],
 "metadata": {
  "kernelspec": {
   "display_name": "Python 3",
   "language": "python",
   "name": "python3"
  },
  "language_info": {
   "codemirror_mode": {
    "name": "ipython",
    "version": 3
   },
   "file_extension": ".py",
   "mimetype": "text/x-python",
   "name": "python",
   "nbconvert_exporter": "python",
   "pygments_lexer": "ipython3",
   "version": "3.6.8"
  }
 },
 "nbformat": 4,
 "nbformat_minor": 2
}
